{
 "cells": [
  {
   "cell_type": "code",
   "execution_count": 1,
   "id": "fb1ddc46",
   "metadata": {
    "ExecuteTime": {
     "end_time": "2022-03-25T18:25:44.708196Z",
     "start_time": "2022-03-25T18:25:41.488504Z"
    },
    "scrolled": true,
    "tags": []
   },
   "outputs": [
    {
     "name": "stdout",
     "output_type": "stream",
     "text": [
      "Collecting pandera\n",
      "  Downloading pandera-0.13.4-py3-none-any.whl (122 kB)\n",
      "\u001b[2K     \u001b[90m━━━━━━━━━━━━━━━━━━━━━━━━━━━━━━━━━━━━━━━\u001b[0m \u001b[32m122.4/122.4 kB\u001b[0m \u001b[31m1.0 MB/s\u001b[0m eta \u001b[36m0:00:00\u001b[0ma \u001b[36m0:00:01\u001b[0m\n",
      "\u001b[?25hCollecting ipytest\n",
      "  Downloading ipytest-0.13.0-py3-none-any.whl (14 kB)\n",
      "Collecting wrapt\n",
      "  Downloading wrapt-1.14.1-cp38-cp38-macosx_11_0_arm64.whl (35 kB)\n",
      "Requirement already satisfied: packaging>=20.0 in /Users/leonard504s/.local/share/virtualenvs/dev-jupyter-FsiMdHVb/lib/python3.8/site-packages (from pandera) (21.3)\n",
      "Requirement already satisfied: pandas>=1.2.0 in /Users/leonard504s/.local/share/virtualenvs/dev-jupyter-FsiMdHVb/lib/python3.8/site-packages (from pandera) (1.4.3)\n",
      "Collecting pydantic\n",
      "  Downloading pydantic-1.10.2-cp38-cp38-macosx_11_0_arm64.whl (2.6 MB)\n",
      "\u001b[2K     \u001b[90m━━━━━━━━━━━━━━━━━━━━━━━━━━━━━━━━━━━━━━━━\u001b[0m \u001b[32m2.6/2.6 MB\u001b[0m \u001b[31m3.5 MB/s\u001b[0m eta \u001b[36m0:00:00\u001b[0ma \u001b[36m0:00:01\u001b[0mm\n",
      "\u001b[?25hCollecting typing-inspect>=0.6.0\n",
      "  Downloading typing_inspect-0.8.0-py3-none-any.whl (8.7 kB)\n",
      "Requirement already satisfied: numpy>=1.19.0 in /Users/leonard504s/.local/share/virtualenvs/dev-jupyter-FsiMdHVb/lib/python3.8/site-packages (from pandera) (1.23.1)\n",
      "Requirement already satisfied: ipython in /Users/leonard504s/.local/share/virtualenvs/dev-jupyter-FsiMdHVb/lib/python3.8/site-packages (from ipytest) (8.4.0)\n",
      "Collecting pytest>=5.4\n",
      "  Downloading pytest-7.2.0-py3-none-any.whl (316 kB)\n",
      "\u001b[2K     \u001b[90m━━━━━━━━━━━━━━━━━━━━━━━━━━━━━━━━━━━━━━━\u001b[0m \u001b[32m316.8/316.8 kB\u001b[0m \u001b[31m3.0 MB/s\u001b[0m eta \u001b[36m0:00:00\u001b[0ma \u001b[36m0:00:01\u001b[0m\n",
      "\u001b[?25hRequirement already satisfied: pyparsing!=3.0.5,>=2.0.2 in /Users/leonard504s/.local/share/virtualenvs/dev-jupyter-FsiMdHVb/lib/python3.8/site-packages (from packaging>=20.0->pandera) (3.0.9)\n",
      "Requirement already satisfied: pytz>=2020.1 in /Users/leonard504s/.local/share/virtualenvs/dev-jupyter-FsiMdHVb/lib/python3.8/site-packages (from pandas>=1.2.0->pandera) (2022.1)\n",
      "Requirement already satisfied: python-dateutil>=2.8.1 in /Users/leonard504s/.local/share/virtualenvs/dev-jupyter-FsiMdHVb/lib/python3.8/site-packages (from pandas>=1.2.0->pandera) (2.8.2)\n",
      "Collecting pluggy<2.0,>=0.12\n",
      "  Downloading pluggy-1.0.0-py2.py3-none-any.whl (13 kB)\n",
      "Collecting iniconfig\n",
      "  Downloading iniconfig-1.1.1-py2.py3-none-any.whl (5.0 kB)\n",
      "Collecting tomli>=1.0.0\n",
      "  Downloading tomli-2.0.1-py3-none-any.whl (12 kB)\n",
      "Requirement already satisfied: attrs>=19.2.0 in /Users/leonard504s/.local/share/virtualenvs/dev-jupyter-FsiMdHVb/lib/python3.8/site-packages (from pytest>=5.4->ipytest) (22.1.0)\n",
      "Collecting exceptiongroup>=1.0.0rc8\n",
      "  Downloading exceptiongroup-1.0.1-py3-none-any.whl (12 kB)\n",
      "Collecting typing-extensions>=3.7.4\n",
      "  Downloading typing_extensions-4.4.0-py3-none-any.whl (26 kB)\n",
      "Collecting mypy-extensions>=0.3.0\n",
      "  Downloading mypy_extensions-0.4.3-py2.py3-none-any.whl (4.5 kB)\n",
      "Requirement already satisfied: pickleshare in /Users/leonard504s/.local/share/virtualenvs/dev-jupyter-FsiMdHVb/lib/python3.8/site-packages (from ipython->ipytest) (0.7.5)\n",
      "Requirement already satisfied: appnope in /Users/leonard504s/.local/share/virtualenvs/dev-jupyter-FsiMdHVb/lib/python3.8/site-packages (from ipython->ipytest) (0.1.3)\n",
      "Requirement already satisfied: traitlets>=5 in /Users/leonard504s/.local/share/virtualenvs/dev-jupyter-FsiMdHVb/lib/python3.8/site-packages (from ipython->ipytest) (5.3.0)\n",
      "Requirement already satisfied: pexpect>4.3 in /Users/leonard504s/.local/share/virtualenvs/dev-jupyter-FsiMdHVb/lib/python3.8/site-packages (from ipython->ipytest) (4.8.0)\n",
      "Requirement already satisfied: matplotlib-inline in /Users/leonard504s/.local/share/virtualenvs/dev-jupyter-FsiMdHVb/lib/python3.8/site-packages (from ipython->ipytest) (0.1.3)\n",
      "Requirement already satisfied: stack-data in /Users/leonard504s/.local/share/virtualenvs/dev-jupyter-FsiMdHVb/lib/python3.8/site-packages (from ipython->ipytest) (0.3.0)\n",
      "Requirement already satisfied: setuptools>=18.5 in /Users/leonard504s/.local/share/virtualenvs/dev-jupyter-FsiMdHVb/lib/python3.8/site-packages (from ipython->ipytest) (63.3.0)\n",
      "Requirement already satisfied: backcall in /Users/leonard504s/.local/share/virtualenvs/dev-jupyter-FsiMdHVb/lib/python3.8/site-packages (from ipython->ipytest) (0.2.0)\n",
      "Requirement already satisfied: prompt-toolkit!=3.0.0,!=3.0.1,<3.1.0,>=2.0.0 in /Users/leonard504s/.local/share/virtualenvs/dev-jupyter-FsiMdHVb/lib/python3.8/site-packages (from ipython->ipytest) (3.0.30)\n",
      "Requirement already satisfied: pygments>=2.4.0 in /Users/leonard504s/.local/share/virtualenvs/dev-jupyter-FsiMdHVb/lib/python3.8/site-packages (from ipython->ipytest) (2.12.0)\n",
      "Requirement already satisfied: decorator in /Users/leonard504s/.local/share/virtualenvs/dev-jupyter-FsiMdHVb/lib/python3.8/site-packages (from ipython->ipytest) (5.1.1)\n",
      "Requirement already satisfied: jedi>=0.16 in /Users/leonard504s/.local/share/virtualenvs/dev-jupyter-FsiMdHVb/lib/python3.8/site-packages (from ipython->ipytest) (0.18.1)\n",
      "Requirement already satisfied: parso<0.9.0,>=0.8.0 in /Users/leonard504s/.local/share/virtualenvs/dev-jupyter-FsiMdHVb/lib/python3.8/site-packages (from jedi>=0.16->ipython->ipytest) (0.8.3)\n",
      "Requirement already satisfied: ptyprocess>=0.5 in /Users/leonard504s/.local/share/virtualenvs/dev-jupyter-FsiMdHVb/lib/python3.8/site-packages (from pexpect>4.3->ipython->ipytest) (0.7.0)\n",
      "Requirement already satisfied: wcwidth in /Users/leonard504s/.local/share/virtualenvs/dev-jupyter-FsiMdHVb/lib/python3.8/site-packages (from prompt-toolkit!=3.0.0,!=3.0.1,<3.1.0,>=2.0.0->ipython->ipytest) (0.2.5)\n",
      "Requirement already satisfied: six>=1.5 in /Users/leonard504s/.local/share/virtualenvs/dev-jupyter-FsiMdHVb/lib/python3.8/site-packages (from python-dateutil>=2.8.1->pandas>=1.2.0->pandera) (1.16.0)\n",
      "Requirement already satisfied: asttokens in /Users/leonard504s/.local/share/virtualenvs/dev-jupyter-FsiMdHVb/lib/python3.8/site-packages (from stack-data->ipython->ipytest) (2.0.5)\n",
      "Requirement already satisfied: pure-eval in /Users/leonard504s/.local/share/virtualenvs/dev-jupyter-FsiMdHVb/lib/python3.8/site-packages (from stack-data->ipython->ipytest) (0.2.2)\n",
      "Requirement already satisfied: executing in /Users/leonard504s/.local/share/virtualenvs/dev-jupyter-FsiMdHVb/lib/python3.8/site-packages (from stack-data->ipython->ipytest) (0.9.1)\n",
      "Installing collected packages: mypy-extensions, iniconfig, wrapt, typing-extensions, tomli, pluggy, exceptiongroup, typing-inspect, pytest, pydantic, pandera, ipytest\n",
      "Successfully installed exceptiongroup-1.0.1 iniconfig-1.1.1 ipytest-0.13.0 mypy-extensions-0.4.3 pandera-0.13.4 pluggy-1.0.0 pydantic-1.10.2 pytest-7.2.0 tomli-2.0.1 typing-extensions-4.4.0 typing-inspect-0.8.0 wrapt-1.14.1\n"
     ]
    }
   ],
   "source": [
    "!pip install pandera ipytest"
   ]
  },
  {
   "cell_type": "markdown",
   "id": "cc7b5ade",
   "metadata": {},
   "source": [
    "# Introduction"
   ]
  },
  {
   "cell_type": "code",
   "execution_count": 13,
   "id": "2ef1fb81",
   "metadata": {
    "ExecuteTime": {
     "end_time": "2022-03-25T18:31:14.257662Z",
     "start_time": "2022-03-25T18:31:14.249575Z"
    }
   },
   "outputs": [
    {
     "data": {
      "text/html": [
       "<div>\n",
       "<style scoped>\n",
       "    .dataframe tbody tr th:only-of-type {\n",
       "        vertical-align: middle;\n",
       "    }\n",
       "\n",
       "    .dataframe tbody tr th {\n",
       "        vertical-align: top;\n",
       "    }\n",
       "\n",
       "    .dataframe thead th {\n",
       "        text-align: right;\n",
       "    }\n",
       "</style>\n",
       "<table border=\"1\" class=\"dataframe\">\n",
       "  <thead>\n",
       "    <tr style=\"text-align: right;\">\n",
       "      <th></th>\n",
       "      <th>name</th>\n",
       "      <th>store</th>\n",
       "      <th>price</th>\n",
       "    </tr>\n",
       "  </thead>\n",
       "  <tbody>\n",
       "    <tr>\n",
       "      <th>0</th>\n",
       "      <td>apple</td>\n",
       "      <td>Aldi</td>\n",
       "      <td>2</td>\n",
       "    </tr>\n",
       "    <tr>\n",
       "      <th>1</th>\n",
       "      <td>banana</td>\n",
       "      <td>Walmart</td>\n",
       "      <td>1</td>\n",
       "    </tr>\n",
       "    <tr>\n",
       "      <th>2</th>\n",
       "      <td>apple</td>\n",
       "      <td>Walmart</td>\n",
       "      <td>3</td>\n",
       "    </tr>\n",
       "    <tr>\n",
       "      <th>3</th>\n",
       "      <td>orange</td>\n",
       "      <td>Aldi</td>\n",
       "      <td>4</td>\n",
       "    </tr>\n",
       "  </tbody>\n",
       "</table>\n",
       "</div>"
      ],
      "text/plain": [
       "     name    store  price\n",
       "0   apple     Aldi      2\n",
       "1  banana  Walmart      1\n",
       "2   apple  Walmart      3\n",
       "3  orange     Aldi      4"
      ]
     },
     "execution_count": 13,
     "metadata": {},
     "output_type": "execute_result"
    }
   ],
   "source": [
    "import pandas as pd\n",
    "import pandera as pa\n",
    "\n",
    "fruits = pd.DataFrame(\n",
    "    {\n",
    "        \"name\": [\"apple\", \"banana\", \"apple\", \"orange\"],\n",
    "        \"store\": [\"Aldi\", \"Walmart\", \"Walmart\", \"Aldi\"],\n",
    "        \"price\": [2, 1, 3, 4],\n",
    "    }\n",
    ")\n",
    "\n",
    "fruits"
   ]
  },
  {
   "cell_type": "markdown",
   "id": "ae98defc-39a0-4d2e-9a95-1f6b2bfaded1",
   "metadata": {
    "tags": []
   },
   "source": [
    "### 情境1\n",
    "資料中只能特定水果、商店且價格只能低於 4 。  \n",
    "為確保您的數據符合這些條件，手動檢查會耗費許多時間，\n",
    "當資料量比較大時，可以利用 Pandera 做自動化檢查。  \n",
    "* 用 DataFrameSchema 對整份資料建立多個測試\n",
    "* 使用 Column 針對每個欄位建立測試\n",
    "* 使用 Check 對欄位建立條件測試"
   ]
  },
  {
   "cell_type": "code",
   "execution_count": 3,
   "id": "0c0f93c9",
   "metadata": {},
   "outputs": [],
   "source": [
    "available_fruits = [\"apple\", \"banana\", \"orange\"]\n",
    "nearby_stores = [\"Aldi\", \"Walmart\"]"
   ]
  },
  {
   "cell_type": "code",
   "execution_count": 11,
   "id": "551e8ffb",
   "metadata": {
    "ExecuteTime": {
     "end_time": "2022-03-25T18:31:14.658417Z",
     "start_time": "2022-03-25T18:31:14.485803Z"
    },
    "scrolled": true,
    "tags": []
   },
   "outputs": [
    {
     "ename": "SchemaError",
     "evalue": "<Schema Column(name=price, type=DataType(int64))> failed element-wise validator 0:\n<Check less_than: less_than(4)>\nfailure cases:\n   index  failure_case\n0      3             4",
     "output_type": "error",
     "traceback": [
      "\u001b[0;31m---------------------------------------------------------------------------\u001b[0m",
      "\u001b[0;31mSchemaError\u001b[0m                               Traceback (most recent call last)",
      "Input \u001b[0;32mIn [11]\u001b[0m, in \u001b[0;36m<cell line: 13>\u001b[0;34m()\u001b[0m\n\u001b[1;32m      5\u001b[0m nearby_stores \u001b[38;5;241m=\u001b[39m [\u001b[38;5;124m\"\u001b[39m\u001b[38;5;124mAldi\u001b[39m\u001b[38;5;124m\"\u001b[39m, \u001b[38;5;124m\"\u001b[39m\u001b[38;5;124mWalmart\u001b[39m\u001b[38;5;124m\"\u001b[39m]\n\u001b[1;32m      6\u001b[0m schema \u001b[38;5;241m=\u001b[39m pa\u001b[38;5;241m.\u001b[39mDataFrameSchema(\n\u001b[1;32m      7\u001b[0m     {\n\u001b[1;32m      8\u001b[0m         \u001b[38;5;124m\"\u001b[39m\u001b[38;5;124mname\u001b[39m\u001b[38;5;124m\"\u001b[39m: Column(\u001b[38;5;28mstr\u001b[39m, Check\u001b[38;5;241m.\u001b[39misin(available_fruits)), \u001b[38;5;66;03m# 檢查欄位是否在特定類別水果\u001b[39;00m\n\u001b[0;32m   (...)\u001b[0m\n\u001b[1;32m     11\u001b[0m     }\n\u001b[1;32m     12\u001b[0m )\n\u001b[0;32m---> 13\u001b[0m \u001b[43mschema\u001b[49m\u001b[38;5;241;43m.\u001b[39;49m\u001b[43mvalidate\u001b[49m\u001b[43m(\u001b[49m\u001b[43mfruits\u001b[49m\u001b[43m)\u001b[49m\n",
      "File \u001b[0;32m~/.local/share/virtualenvs/dev-jupyter-FsiMdHVb/lib/python3.8/site-packages/pandera/schemas.py:534\u001b[0m, in \u001b[0;36mDataFrameSchema.validate\u001b[0;34m(self, check_obj, head, tail, sample, random_state, lazy, inplace)\u001b[0m\n\u001b[1;32m    521\u001b[0m     check_obj \u001b[38;5;241m=\u001b[39m check_obj\u001b[38;5;241m.\u001b[39mmap_partitions(\n\u001b[1;32m    522\u001b[0m         \u001b[38;5;28mself\u001b[39m\u001b[38;5;241m.\u001b[39m_validate,\n\u001b[1;32m    523\u001b[0m         head\u001b[38;5;241m=\u001b[39mhead,\n\u001b[0;32m   (...)\u001b[0m\n\u001b[1;32m    529\u001b[0m         meta\u001b[38;5;241m=\u001b[39mcheck_obj,\n\u001b[1;32m    530\u001b[0m     )\n\u001b[1;32m    532\u001b[0m     \u001b[38;5;28;01mreturn\u001b[39;00m check_obj\u001b[38;5;241m.\u001b[39mpandera\u001b[38;5;241m.\u001b[39madd_schema(\u001b[38;5;28mself\u001b[39m)\n\u001b[0;32m--> 534\u001b[0m \u001b[38;5;28;01mreturn\u001b[39;00m \u001b[38;5;28;43mself\u001b[39;49m\u001b[38;5;241;43m.\u001b[39;49m\u001b[43m_validate\u001b[49m\u001b[43m(\u001b[49m\n\u001b[1;32m    535\u001b[0m \u001b[43m    \u001b[49m\u001b[43mcheck_obj\u001b[49m\u001b[38;5;241;43m=\u001b[39;49m\u001b[43mcheck_obj\u001b[49m\u001b[43m,\u001b[49m\n\u001b[1;32m    536\u001b[0m \u001b[43m    \u001b[49m\u001b[43mhead\u001b[49m\u001b[38;5;241;43m=\u001b[39;49m\u001b[43mhead\u001b[49m\u001b[43m,\u001b[49m\n\u001b[1;32m    537\u001b[0m \u001b[43m    \u001b[49m\u001b[43mtail\u001b[49m\u001b[38;5;241;43m=\u001b[39;49m\u001b[43mtail\u001b[49m\u001b[43m,\u001b[49m\n\u001b[1;32m    538\u001b[0m \u001b[43m    \u001b[49m\u001b[43msample\u001b[49m\u001b[38;5;241;43m=\u001b[39;49m\u001b[43msample\u001b[49m\u001b[43m,\u001b[49m\n\u001b[1;32m    539\u001b[0m \u001b[43m    \u001b[49m\u001b[43mrandom_state\u001b[49m\u001b[38;5;241;43m=\u001b[39;49m\u001b[43mrandom_state\u001b[49m\u001b[43m,\u001b[49m\n\u001b[1;32m    540\u001b[0m \u001b[43m    \u001b[49m\u001b[43mlazy\u001b[49m\u001b[38;5;241;43m=\u001b[39;49m\u001b[43mlazy\u001b[49m\u001b[43m,\u001b[49m\n\u001b[1;32m    541\u001b[0m \u001b[43m    \u001b[49m\u001b[43minplace\u001b[49m\u001b[38;5;241;43m=\u001b[39;49m\u001b[43minplace\u001b[49m\u001b[43m,\u001b[49m\n\u001b[1;32m    542\u001b[0m \u001b[43m\u001b[49m\u001b[43m)\u001b[49m\n",
      "File \u001b[0;32m~/.local/share/virtualenvs/dev-jupyter-FsiMdHVb/lib/python3.8/site-packages/pandera/schemas.py:732\u001b[0m, in \u001b[0;36mDataFrameSchema._validate\u001b[0;34m(self, check_obj, head, tail, sample, random_state, lazy, inplace)\u001b[0m\n\u001b[1;32m    730\u001b[0m     check_results\u001b[38;5;241m.\u001b[39mappend(check_utils\u001b[38;5;241m.\u001b[39mis_table(result))\n\u001b[1;32m    731\u001b[0m \u001b[38;5;28;01mexcept\u001b[39;00m errors\u001b[38;5;241m.\u001b[39mSchemaError \u001b[38;5;28;01mas\u001b[39;00m err:\n\u001b[0;32m--> 732\u001b[0m     \u001b[43merror_handler\u001b[49m\u001b[38;5;241;43m.\u001b[39;49m\u001b[43mcollect_error\u001b[49m\u001b[43m(\u001b[49m\u001b[38;5;124;43m\"\u001b[39;49m\u001b[38;5;124;43mschema_component_check\u001b[39;49m\u001b[38;5;124;43m\"\u001b[39;49m\u001b[43m,\u001b[49m\u001b[43m \u001b[49m\u001b[43merr\u001b[49m\u001b[43m)\u001b[49m\n\u001b[1;32m    733\u001b[0m \u001b[38;5;28;01mexcept\u001b[39;00m errors\u001b[38;5;241m.\u001b[39mSchemaErrors \u001b[38;5;28;01mas\u001b[39;00m err:\n\u001b[1;32m    734\u001b[0m     \u001b[38;5;28;01mfor\u001b[39;00m schema_error_dict \u001b[38;5;129;01min\u001b[39;00m err\u001b[38;5;241m.\u001b[39mschema_errors:\n",
      "File \u001b[0;32m~/.local/share/virtualenvs/dev-jupyter-FsiMdHVb/lib/python3.8/site-packages/pandera/error_handlers.py:32\u001b[0m, in \u001b[0;36mSchemaErrorHandler.collect_error\u001b[0;34m(self, reason_code, schema_error, original_exc)\u001b[0m\n\u001b[1;32m     26\u001b[0m \u001b[38;5;124;03m\"\"\"Collect schema error, raising exception if lazy is False.\u001b[39;00m\n\u001b[1;32m     27\u001b[0m \n\u001b[1;32m     28\u001b[0m \u001b[38;5;124;03m:param reason_code: string representing reason for error\u001b[39;00m\n\u001b[1;32m     29\u001b[0m \u001b[38;5;124;03m:param schema_error: ``SchemaError`` object.\u001b[39;00m\n\u001b[1;32m     30\u001b[0m \u001b[38;5;124;03m\"\"\"\u001b[39;00m\n\u001b[1;32m     31\u001b[0m \u001b[38;5;28;01mif\u001b[39;00m \u001b[38;5;129;01mnot\u001b[39;00m \u001b[38;5;28mself\u001b[39m\u001b[38;5;241m.\u001b[39m_lazy:\n\u001b[0;32m---> 32\u001b[0m     \u001b[38;5;28;01mraise\u001b[39;00m schema_error \u001b[38;5;28;01mfrom\u001b[39;00m \u001b[38;5;21;01moriginal_exc\u001b[39;00m\n\u001b[1;32m     34\u001b[0m \u001b[38;5;66;03m# delete data of validated object from SchemaError object to prevent\u001b[39;00m\n\u001b[1;32m     35\u001b[0m \u001b[38;5;66;03m# storing copies of the validated DataFrame/Series for every\u001b[39;00m\n\u001b[1;32m     36\u001b[0m \u001b[38;5;66;03m# SchemaError collected.\u001b[39;00m\n\u001b[1;32m     37\u001b[0m \u001b[38;5;28;01mdel\u001b[39;00m schema_error\u001b[38;5;241m.\u001b[39mdata\n",
      "File \u001b[0;32m~/.local/share/virtualenvs/dev-jupyter-FsiMdHVb/lib/python3.8/site-packages/pandera/schemas.py:724\u001b[0m, in \u001b[0;36mDataFrameSchema._validate\u001b[0;34m(self, check_obj, head, tail, sample, random_state, lazy, inplace)\u001b[0m\n\u001b[1;32m    722\u001b[0m \u001b[38;5;28;01mfor\u001b[39;00m schema_component \u001b[38;5;129;01min\u001b[39;00m schema_components:\n\u001b[1;32m    723\u001b[0m     \u001b[38;5;28;01mtry\u001b[39;00m:\n\u001b[0;32m--> 724\u001b[0m         result \u001b[38;5;241m=\u001b[39m \u001b[43mschema_component\u001b[49m\u001b[43m(\u001b[49m\n\u001b[1;32m    725\u001b[0m \u001b[43m            \u001b[49m\u001b[43mdf_to_validate\u001b[49m\u001b[43m,\u001b[49m\n\u001b[1;32m    726\u001b[0m \u001b[43m            \u001b[49m\u001b[43mlazy\u001b[49m\u001b[38;5;241;43m=\u001b[39;49m\u001b[43mlazy\u001b[49m\u001b[43m,\u001b[49m\n\u001b[1;32m    727\u001b[0m \u001b[43m            \u001b[49m\u001b[38;5;66;43;03m# don't make a copy of the data\u001b[39;49;00m\n\u001b[1;32m    728\u001b[0m \u001b[43m            \u001b[49m\u001b[43minplace\u001b[49m\u001b[38;5;241;43m=\u001b[39;49m\u001b[38;5;28;43;01mTrue\u001b[39;49;00m\u001b[43m,\u001b[49m\n\u001b[1;32m    729\u001b[0m \u001b[43m        \u001b[49m\u001b[43m)\u001b[49m\n\u001b[1;32m    730\u001b[0m         check_results\u001b[38;5;241m.\u001b[39mappend(check_utils\u001b[38;5;241m.\u001b[39mis_table(result))\n\u001b[1;32m    731\u001b[0m     \u001b[38;5;28;01mexcept\u001b[39;00m errors\u001b[38;5;241m.\u001b[39mSchemaError \u001b[38;5;28;01mas\u001b[39;00m err:\n",
      "File \u001b[0;32m~/.local/share/virtualenvs/dev-jupyter-FsiMdHVb/lib/python3.8/site-packages/pandera/schemas.py:2138\u001b[0m, in \u001b[0;36mSeriesSchemaBase.__call__\u001b[0;34m(self, check_obj, head, tail, sample, random_state, lazy, inplace)\u001b[0m\n\u001b[1;32m   2127\u001b[0m \u001b[38;5;28;01mdef\u001b[39;00m \u001b[38;5;21m__call__\u001b[39m(\n\u001b[1;32m   2128\u001b[0m     \u001b[38;5;28mself\u001b[39m,\n\u001b[1;32m   2129\u001b[0m     check_obj: Union[pd\u001b[38;5;241m.\u001b[39mDataFrame, pd\u001b[38;5;241m.\u001b[39mSeries],\n\u001b[0;32m   (...)\u001b[0m\n\u001b[1;32m   2135\u001b[0m     inplace: \u001b[38;5;28mbool\u001b[39m \u001b[38;5;241m=\u001b[39m \u001b[38;5;28;01mFalse\u001b[39;00m,\n\u001b[1;32m   2136\u001b[0m ) \u001b[38;5;241m-\u001b[39m\u001b[38;5;241m>\u001b[39m Union[pd\u001b[38;5;241m.\u001b[39mDataFrame, pd\u001b[38;5;241m.\u001b[39mSeries]:\n\u001b[1;32m   2137\u001b[0m     \u001b[38;5;124;03m\"\"\"Alias for ``validate`` method.\"\"\"\u001b[39;00m\n\u001b[0;32m-> 2138\u001b[0m     \u001b[38;5;28;01mreturn\u001b[39;00m \u001b[38;5;28;43mself\u001b[39;49m\u001b[38;5;241;43m.\u001b[39;49m\u001b[43mvalidate\u001b[49m\u001b[43m(\u001b[49m\n\u001b[1;32m   2139\u001b[0m \u001b[43m        \u001b[49m\u001b[43mcheck_obj\u001b[49m\u001b[43m,\u001b[49m\u001b[43m \u001b[49m\u001b[43mhead\u001b[49m\u001b[43m,\u001b[49m\u001b[43m \u001b[49m\u001b[43mtail\u001b[49m\u001b[43m,\u001b[49m\u001b[43m \u001b[49m\u001b[43msample\u001b[49m\u001b[43m,\u001b[49m\u001b[43m \u001b[49m\u001b[43mrandom_state\u001b[49m\u001b[43m,\u001b[49m\u001b[43m \u001b[49m\u001b[43mlazy\u001b[49m\u001b[43m,\u001b[49m\u001b[43m \u001b[49m\u001b[43minplace\u001b[49m\n\u001b[1;32m   2140\u001b[0m \u001b[43m    \u001b[49m\u001b[43m)\u001b[49m\n",
      "File \u001b[0;32m~/.local/share/virtualenvs/dev-jupyter-FsiMdHVb/lib/python3.8/site-packages/pandera/schema_components.py:223\u001b[0m, in \u001b[0;36mColumn.validate\u001b[0;34m(self, check_obj, head, tail, sample, random_state, lazy, inplace)\u001b[0m\n\u001b[1;32m    219\u001b[0m             validate_column(\n\u001b[1;32m    220\u001b[0m                 check_obj[column_name]\u001b[38;5;241m.\u001b[39miloc[:, [i]], column_name\n\u001b[1;32m    221\u001b[0m             )\n\u001b[1;32m    222\u001b[0m     \u001b[38;5;28;01melse\u001b[39;00m:\n\u001b[0;32m--> 223\u001b[0m         \u001b[43mvalidate_column\u001b[49m\u001b[43m(\u001b[49m\u001b[43mcheck_obj\u001b[49m\u001b[43m,\u001b[49m\u001b[43m \u001b[49m\u001b[43mcolumn_name\u001b[49m\u001b[43m)\u001b[49m\n\u001b[1;32m    225\u001b[0m \u001b[38;5;28;01mreturn\u001b[39;00m check_obj\n",
      "File \u001b[0;32m~/.local/share/virtualenvs/dev-jupyter-FsiMdHVb/lib/python3.8/site-packages/pandera/schema_components.py:196\u001b[0m, in \u001b[0;36mColumn.validate.<locals>.validate_column\u001b[0;34m(check_obj, column_name)\u001b[0m\n\u001b[1;32m    195\u001b[0m \u001b[38;5;28;01mdef\u001b[39;00m \u001b[38;5;21mvalidate_column\u001b[39m(check_obj, column_name):\n\u001b[0;32m--> 196\u001b[0m     \u001b[38;5;28;43msuper\u001b[39;49m\u001b[43m(\u001b[49m\u001b[43mColumn\u001b[49m\u001b[43m,\u001b[49m\u001b[43m \u001b[49m\u001b[43mcopy\u001b[49m\u001b[43m(\u001b[49m\u001b[38;5;28;43mself\u001b[39;49m\u001b[43m)\u001b[49m\u001b[38;5;241;43m.\u001b[39;49m\u001b[43mset_name\u001b[49m\u001b[43m(\u001b[49m\u001b[43mcolumn_name\u001b[49m\u001b[43m)\u001b[49m\u001b[43m)\u001b[49m\u001b[38;5;241;43m.\u001b[39;49m\u001b[43mvalidate\u001b[49m\u001b[43m(\u001b[49m\n\u001b[1;32m    197\u001b[0m \u001b[43m        \u001b[49m\u001b[43mcheck_obj\u001b[49m\u001b[43m,\u001b[49m\n\u001b[1;32m    198\u001b[0m \u001b[43m        \u001b[49m\u001b[43mhead\u001b[49m\u001b[43m,\u001b[49m\n\u001b[1;32m    199\u001b[0m \u001b[43m        \u001b[49m\u001b[43mtail\u001b[49m\u001b[43m,\u001b[49m\n\u001b[1;32m    200\u001b[0m \u001b[43m        \u001b[49m\u001b[43msample\u001b[49m\u001b[43m,\u001b[49m\n\u001b[1;32m    201\u001b[0m \u001b[43m        \u001b[49m\u001b[43mrandom_state\u001b[49m\u001b[43m,\u001b[49m\n\u001b[1;32m    202\u001b[0m \u001b[43m        \u001b[49m\u001b[43mlazy\u001b[49m\u001b[43m,\u001b[49m\n\u001b[1;32m    203\u001b[0m \u001b[43m        \u001b[49m\u001b[43minplace\u001b[49m\u001b[38;5;241;43m=\u001b[39;49m\u001b[43minplace\u001b[49m\u001b[43m,\u001b[49m\n\u001b[1;32m    204\u001b[0m \u001b[43m    \u001b[49m\u001b[43m)\u001b[49m\n",
      "File \u001b[0;32m~/.local/share/virtualenvs/dev-jupyter-FsiMdHVb/lib/python3.8/site-packages/pandera/schemas.py:2096\u001b[0m, in \u001b[0;36mSeriesSchemaBase.validate\u001b[0;34m(self, check_obj, head, tail, sample, random_state, lazy, inplace)\u001b[0m\n\u001b[1;32m   2090\u001b[0m     check_results\u001b[38;5;241m.\u001b[39mappend(\n\u001b[1;32m   2091\u001b[0m         _handle_check_results(\n\u001b[1;32m   2092\u001b[0m             \u001b[38;5;28mself\u001b[39m, check_index, check, check_obj, \u001b[38;5;241m*\u001b[39mcheck_args\n\u001b[1;32m   2093\u001b[0m         )\n\u001b[1;32m   2094\u001b[0m     )\n\u001b[1;32m   2095\u001b[0m \u001b[38;5;28;01mexcept\u001b[39;00m errors\u001b[38;5;241m.\u001b[39mSchemaError \u001b[38;5;28;01mas\u001b[39;00m err:\n\u001b[0;32m-> 2096\u001b[0m     \u001b[43merror_handler\u001b[49m\u001b[38;5;241;43m.\u001b[39;49m\u001b[43mcollect_error\u001b[49m\u001b[43m(\u001b[49m\u001b[38;5;124;43m\"\u001b[39;49m\u001b[38;5;124;43mdataframe_check\u001b[39;49m\u001b[38;5;124;43m\"\u001b[39;49m\u001b[43m,\u001b[49m\u001b[43m \u001b[49m\u001b[43merr\u001b[49m\u001b[43m)\u001b[49m\n\u001b[1;32m   2097\u001b[0m \u001b[38;5;28;01mexcept\u001b[39;00m \u001b[38;5;167;01mException\u001b[39;00m \u001b[38;5;28;01mas\u001b[39;00m err:  \u001b[38;5;66;03m# pylint: disable=broad-except\u001b[39;00m\n\u001b[1;32m   2098\u001b[0m     \u001b[38;5;66;03m# catch other exceptions that may occur when executing the\u001b[39;00m\n\u001b[1;32m   2099\u001b[0m     \u001b[38;5;66;03m# Check\u001b[39;00m\n\u001b[1;32m   2100\u001b[0m     err_msg \u001b[38;5;241m=\u001b[39m \u001b[38;5;124mf\u001b[39m\u001b[38;5;124m'\u001b[39m\u001b[38;5;124m\"\u001b[39m\u001b[38;5;132;01m{\u001b[39;00merr\u001b[38;5;241m.\u001b[39margs[\u001b[38;5;241m0\u001b[39m]\u001b[38;5;132;01m}\u001b[39;00m\u001b[38;5;124m\"\u001b[39m\u001b[38;5;124m'\u001b[39m \u001b[38;5;28;01mif\u001b[39;00m \u001b[38;5;28mlen\u001b[39m(err\u001b[38;5;241m.\u001b[39margs) \u001b[38;5;241m>\u001b[39m \u001b[38;5;241m0\u001b[39m \u001b[38;5;28;01melse\u001b[39;00m \u001b[38;5;124m\"\u001b[39m\u001b[38;5;124m\"\u001b[39m\n",
      "File \u001b[0;32m~/.local/share/virtualenvs/dev-jupyter-FsiMdHVb/lib/python3.8/site-packages/pandera/error_handlers.py:32\u001b[0m, in \u001b[0;36mSchemaErrorHandler.collect_error\u001b[0;34m(self, reason_code, schema_error, original_exc)\u001b[0m\n\u001b[1;32m     26\u001b[0m \u001b[38;5;124;03m\"\"\"Collect schema error, raising exception if lazy is False.\u001b[39;00m\n\u001b[1;32m     27\u001b[0m \n\u001b[1;32m     28\u001b[0m \u001b[38;5;124;03m:param reason_code: string representing reason for error\u001b[39;00m\n\u001b[1;32m     29\u001b[0m \u001b[38;5;124;03m:param schema_error: ``SchemaError`` object.\u001b[39;00m\n\u001b[1;32m     30\u001b[0m \u001b[38;5;124;03m\"\"\"\u001b[39;00m\n\u001b[1;32m     31\u001b[0m \u001b[38;5;28;01mif\u001b[39;00m \u001b[38;5;129;01mnot\u001b[39;00m \u001b[38;5;28mself\u001b[39m\u001b[38;5;241m.\u001b[39m_lazy:\n\u001b[0;32m---> 32\u001b[0m     \u001b[38;5;28;01mraise\u001b[39;00m schema_error \u001b[38;5;28;01mfrom\u001b[39;00m \u001b[38;5;21;01moriginal_exc\u001b[39;00m\n\u001b[1;32m     34\u001b[0m \u001b[38;5;66;03m# delete data of validated object from SchemaError object to prevent\u001b[39;00m\n\u001b[1;32m     35\u001b[0m \u001b[38;5;66;03m# storing copies of the validated DataFrame/Series for every\u001b[39;00m\n\u001b[1;32m     36\u001b[0m \u001b[38;5;66;03m# SchemaError collected.\u001b[39;00m\n\u001b[1;32m     37\u001b[0m \u001b[38;5;28;01mdel\u001b[39;00m schema_error\u001b[38;5;241m.\u001b[39mdata\n",
      "File \u001b[0;32m~/.local/share/virtualenvs/dev-jupyter-FsiMdHVb/lib/python3.8/site-packages/pandera/schemas.py:2091\u001b[0m, in \u001b[0;36mSeriesSchemaBase.validate\u001b[0;34m(self, check_obj, head, tail, sample, random_state, lazy, inplace)\u001b[0m\n\u001b[1;32m   2088\u001b[0m \u001b[38;5;28;01mfor\u001b[39;00m check_index, check \u001b[38;5;129;01min\u001b[39;00m \u001b[38;5;28menumerate\u001b[39m(\u001b[38;5;28mself\u001b[39m\u001b[38;5;241m.\u001b[39mchecks):\n\u001b[1;32m   2089\u001b[0m     \u001b[38;5;28;01mtry\u001b[39;00m:\n\u001b[1;32m   2090\u001b[0m         check_results\u001b[38;5;241m.\u001b[39mappend(\n\u001b[0;32m-> 2091\u001b[0m             \u001b[43m_handle_check_results\u001b[49m\u001b[43m(\u001b[49m\n\u001b[1;32m   2092\u001b[0m \u001b[43m                \u001b[49m\u001b[38;5;28;43mself\u001b[39;49m\u001b[43m,\u001b[49m\u001b[43m \u001b[49m\u001b[43mcheck_index\u001b[49m\u001b[43m,\u001b[49m\u001b[43m \u001b[49m\u001b[43mcheck\u001b[49m\u001b[43m,\u001b[49m\u001b[43m \u001b[49m\u001b[43mcheck_obj\u001b[49m\u001b[43m,\u001b[49m\u001b[43m \u001b[49m\u001b[38;5;241;43m*\u001b[39;49m\u001b[43mcheck_args\u001b[49m\n\u001b[1;32m   2093\u001b[0m \u001b[43m            \u001b[49m\u001b[43m)\u001b[49m\n\u001b[1;32m   2094\u001b[0m         )\n\u001b[1;32m   2095\u001b[0m     \u001b[38;5;28;01mexcept\u001b[39;00m errors\u001b[38;5;241m.\u001b[39mSchemaError \u001b[38;5;28;01mas\u001b[39;00m err:\n\u001b[1;32m   2096\u001b[0m         error_handler\u001b[38;5;241m.\u001b[39mcollect_error(\u001b[38;5;124m\"\u001b[39m\u001b[38;5;124mdataframe_check\u001b[39m\u001b[38;5;124m\"\u001b[39m, err)\n",
      "File \u001b[0;32m~/.local/share/virtualenvs/dev-jupyter-FsiMdHVb/lib/python3.8/site-packages/pandera/schemas.py:2482\u001b[0m, in \u001b[0;36m_handle_check_results\u001b[0;34m(schema, check_index, check, check_obj, *check_args)\u001b[0m\n\u001b[1;32m   2480\u001b[0m         warnings\u001b[38;5;241m.\u001b[39mwarn(error_msg, \u001b[38;5;167;01mUserWarning\u001b[39;00m)\n\u001b[1;32m   2481\u001b[0m         \u001b[38;5;28;01mreturn\u001b[39;00m \u001b[38;5;28;01mTrue\u001b[39;00m\n\u001b[0;32m-> 2482\u001b[0m     \u001b[38;5;28;01mraise\u001b[39;00m errors\u001b[38;5;241m.\u001b[39mSchemaError(\n\u001b[1;32m   2483\u001b[0m         schema,\n\u001b[1;32m   2484\u001b[0m         check_obj,\n\u001b[1;32m   2485\u001b[0m         error_msg,\n\u001b[1;32m   2486\u001b[0m         failure_cases\u001b[38;5;241m=\u001b[39mfailure_cases,\n\u001b[1;32m   2487\u001b[0m         check\u001b[38;5;241m=\u001b[39mcheck,\n\u001b[1;32m   2488\u001b[0m         check_index\u001b[38;5;241m=\u001b[39mcheck_index,\n\u001b[1;32m   2489\u001b[0m         check_output\u001b[38;5;241m=\u001b[39mcheck_result\u001b[38;5;241m.\u001b[39mcheck_output,\n\u001b[1;32m   2490\u001b[0m     )\n\u001b[1;32m   2491\u001b[0m \u001b[38;5;28;01mreturn\u001b[39;00m check_result\u001b[38;5;241m.\u001b[39mcheck_passed\n",
      "\u001b[0;31mSchemaError\u001b[0m: <Schema Column(name=price, type=DataType(int64))> failed element-wise validator 0:\n<Check less_than: less_than(4)>\nfailure cases:\n   index  failure_case\n0      3             4"
     ]
    }
   ],
   "source": [
    "import pandera as pa\n",
    "from pandera import Column, Check\n",
    "\n",
    "available_fruits = [\"apple\", \"banana\", \"orange\"]\n",
    "nearby_stores = [\"Aldi\", \"Walmart\"]\n",
    "schema = pa.DataFrameSchema(\n",
    "    {\n",
    "        \"name\": Column(str, Check.isin(available_fruits)), # 檢查欄位是否在特定類別水果\n",
    "        \"store\": Column(str, Check.isin(nearby_stores)), # 檢查欄位是否在特定類別店家\n",
    "        \"price\": Column(int, Check.less_than(4)), # 檢查價格是否小於 4\n",
    "    }\n",
    ")\n",
    "schema.validate(fruits) # 做資料驗證"
   ]
  },
  {
   "cell_type": "markdown",
   "id": "1d0095bd-b249-4261-9d39-10c98b652376",
   "metadata": {},
   "source": [
    "由 SchemaError 可以看到 index = 3 的資料有問題, 其 price = 4"
   ]
  },
  {
   "cell_type": "code",
   "execution_count": 6,
   "id": "407ac593",
   "metadata": {
    "ExecuteTime": {
     "end_time": "2022-03-25T18:31:14.786395Z",
     "start_time": "2022-03-25T18:31:14.771140Z"
    }
   },
   "outputs": [
    {
     "data": {
      "text/html": [
       "<div>\n",
       "<style scoped>\n",
       "    .dataframe tbody tr th:only-of-type {\n",
       "        vertical-align: middle;\n",
       "    }\n",
       "\n",
       "    .dataframe tbody tr th {\n",
       "        vertical-align: top;\n",
       "    }\n",
       "\n",
       "    .dataframe thead th {\n",
       "        text-align: right;\n",
       "    }\n",
       "</style>\n",
       "<table border=\"1\" class=\"dataframe\">\n",
       "  <thead>\n",
       "    <tr style=\"text-align: right;\">\n",
       "      <th></th>\n",
       "      <th>name</th>\n",
       "      <th>store</th>\n",
       "      <th>price</th>\n",
       "    </tr>\n",
       "  </thead>\n",
       "  <tbody>\n",
       "    <tr>\n",
       "      <th>0</th>\n",
       "      <td>apple</td>\n",
       "      <td>Aldi</td>\n",
       "      <td>2</td>\n",
       "    </tr>\n",
       "    <tr>\n",
       "      <th>1</th>\n",
       "      <td>banana</td>\n",
       "      <td>Walmart</td>\n",
       "      <td>1</td>\n",
       "    </tr>\n",
       "    <tr>\n",
       "      <th>2</th>\n",
       "      <td>apple</td>\n",
       "      <td>Walmart</td>\n",
       "      <td>3</td>\n",
       "    </tr>\n",
       "    <tr>\n",
       "      <th>3</th>\n",
       "      <td>orange</td>\n",
       "      <td>Aldi</td>\n",
       "      <td>4</td>\n",
       "    </tr>\n",
       "  </tbody>\n",
       "</table>\n",
       "</div>"
      ],
      "text/plain": [
       "     name    store  price\n",
       "0   apple     Aldi      2\n",
       "1  banana  Walmart      1\n",
       "2   apple  Walmart      3\n",
       "3  orange     Aldi      4"
      ]
     },
     "execution_count": 6,
     "metadata": {},
     "output_type": "execute_result"
    }
   ],
   "source": [
    "schema = pa.DataFrameSchema(\n",
    "    {\n",
    "        \"name\": Column(str, Check.isin(available_fruits)),\n",
    "        \"store\": Column(str, Check.isin(nearby_stores)),\n",
    "        \"price\": Column(int, Check.less_than(5)),\n",
    "    }\n",
    ")\n",
    "schema.validate(fruits)"
   ]
  },
  {
   "cell_type": "markdown",
   "id": "50d8729e-7ad2-465b-9b7f-67660a593687",
   "metadata": {
    "tags": []
   },
   "source": [
    "### Custom Check\n",
    "* One Column Multiple Check\n",
    "* Custom Check Using lambda"
   ]
  },
  {
   "cell_type": "code",
   "execution_count": 12,
   "id": "737b2ac9",
   "metadata": {
    "ExecuteTime": {
     "end_time": "2022-03-25T18:49:54.579171Z",
     "start_time": "2022-03-25T18:49:54.552021Z"
    }
   },
   "outputs": [
    {
     "data": {
      "text/html": [
       "<div>\n",
       "<style scoped>\n",
       "    .dataframe tbody tr th:only-of-type {\n",
       "        vertical-align: middle;\n",
       "    }\n",
       "\n",
       "    .dataframe tbody tr th {\n",
       "        vertical-align: top;\n",
       "    }\n",
       "\n",
       "    .dataframe thead th {\n",
       "        text-align: right;\n",
       "    }\n",
       "</style>\n",
       "<table border=\"1\" class=\"dataframe\">\n",
       "  <thead>\n",
       "    <tr style=\"text-align: right;\">\n",
       "      <th></th>\n",
       "      <th>name</th>\n",
       "      <th>store</th>\n",
       "      <th>price</th>\n",
       "    </tr>\n",
       "  </thead>\n",
       "  <tbody>\n",
       "    <tr>\n",
       "      <th>0</th>\n",
       "      <td>apple</td>\n",
       "      <td>Aldi</td>\n",
       "      <td>2</td>\n",
       "    </tr>\n",
       "    <tr>\n",
       "      <th>1</th>\n",
       "      <td>banana</td>\n",
       "      <td>Walmart</td>\n",
       "      <td>1</td>\n",
       "    </tr>\n",
       "    <tr>\n",
       "      <th>2</th>\n",
       "      <td>apple</td>\n",
       "      <td>Walmart</td>\n",
       "      <td>3</td>\n",
       "    </tr>\n",
       "    <tr>\n",
       "      <th>3</th>\n",
       "      <td>orange</td>\n",
       "      <td>Aldi</td>\n",
       "      <td>4</td>\n",
       "    </tr>\n",
       "  </tbody>\n",
       "</table>\n",
       "</div>"
      ],
      "text/plain": [
       "     name    store  price\n",
       "0   apple     Aldi      2\n",
       "1  banana  Walmart      1\n",
       "2   apple  Walmart      3\n",
       "3  orange     Aldi      4"
      ]
     },
     "execution_count": 12,
     "metadata": {},
     "output_type": "execute_result"
    }
   ],
   "source": [
    "schema = pa.DataFrameSchema(\n",
    "    {\n",
    "        \"name\": Column(str, Check.isin(available_fruits)),\n",
    "        \"store\": Column(str, Check.isin(nearby_stores)),\n",
    "        \"price\": Column(\n",
    "            int,\n",
    "            [\n",
    "                Check.less_than(5), # 檢查價格小於 5\n",
    "                Check(lambda price: sum(price) < 20), # 檢查價格總和小於 20\n",
    "            ],\n",
    "        ),\n",
    "    }\n",
    ")\n",
    "schema.validate(fruits)\n"
   ]
  },
  {
   "cell_type": "markdown",
   "id": "96cfe159",
   "metadata": {},
   "source": [
    "# Schema Model\n",
    "當測試較於複雜時，可以運用 dataclass 比使用 dict 看起來乾淨一點。"
   ]
  },
  {
   "cell_type": "code",
   "execution_count": 14,
   "id": "fade9cb7",
   "metadata": {
    "ExecuteTime": {
     "end_time": "2022-03-25T15:19:35.217228Z",
     "start_time": "2022-03-25T15:19:35.148216Z"
    }
   },
   "outputs": [
    {
     "data": {
      "text/html": [
       "<div>\n",
       "<style scoped>\n",
       "    .dataframe tbody tr th:only-of-type {\n",
       "        vertical-align: middle;\n",
       "    }\n",
       "\n",
       "    .dataframe tbody tr th {\n",
       "        vertical-align: top;\n",
       "    }\n",
       "\n",
       "    .dataframe thead th {\n",
       "        text-align: right;\n",
       "    }\n",
       "</style>\n",
       "<table border=\"1\" class=\"dataframe\">\n",
       "  <thead>\n",
       "    <tr style=\"text-align: right;\">\n",
       "      <th></th>\n",
       "      <th>name</th>\n",
       "      <th>store</th>\n",
       "      <th>price</th>\n",
       "    </tr>\n",
       "  </thead>\n",
       "  <tbody>\n",
       "    <tr>\n",
       "      <th>0</th>\n",
       "      <td>apple</td>\n",
       "      <td>Aldi</td>\n",
       "      <td>2</td>\n",
       "    </tr>\n",
       "    <tr>\n",
       "      <th>1</th>\n",
       "      <td>banana</td>\n",
       "      <td>Walmart</td>\n",
       "      <td>1</td>\n",
       "    </tr>\n",
       "    <tr>\n",
       "      <th>2</th>\n",
       "      <td>apple</td>\n",
       "      <td>Walmart</td>\n",
       "      <td>3</td>\n",
       "    </tr>\n",
       "    <tr>\n",
       "      <th>3</th>\n",
       "      <td>orange</td>\n",
       "      <td>Aldi</td>\n",
       "      <td>4</td>\n",
       "    </tr>\n",
       "  </tbody>\n",
       "</table>\n",
       "</div>"
      ],
      "text/plain": [
       "     name    store  price\n",
       "0   apple     Aldi      2\n",
       "1  banana  Walmart      1\n",
       "2   apple  Walmart      3\n",
       "3  orange     Aldi      4"
      ]
     },
     "execution_count": 14,
     "metadata": {},
     "output_type": "execute_result"
    }
   ],
   "source": [
    "from pandera.typing import Series\n",
    "\n",
    "\n",
    "class Schema(pa.SchemaModel):\n",
    "    name: Series[str] = pa.Field(isin=available_fruits)\n",
    "    store: Series[str] = pa.Field(isin=nearby_stores)\n",
    "    price: Series[int] = pa.Field(le=5)\n",
    "\n",
    "    @pa.check(\"price\")\n",
    "    def price_sum_lt_20(cls, price: Series[int]) -> Series[bool]:\n",
    "        return sum(price) < 20\n",
    "\n",
    "\n",
    "Schema.validate(fruits)"
   ]
  },
  {
   "cell_type": "markdown",
   "id": "a79cccf4",
   "metadata": {},
   "source": [
    "# Validation Decorator "
   ]
  },
  {
   "cell_type": "markdown",
   "id": "01b25cd1",
   "metadata": {},
   "source": [
    "## Check Input\n",
    "針對 Input Data 測試"
   ]
  },
  {
   "cell_type": "code",
   "execution_count": 15,
   "id": "05df26e0",
   "metadata": {
    "ExecuteTime": {
     "end_time": "2022-03-25T19:11:03.309250Z",
     "start_time": "2022-03-25T19:11:03.283422Z"
    }
   },
   "outputs": [
    {
     "data": {
      "text/plain": [
       "10"
      ]
     },
     "execution_count": 15,
     "metadata": {},
     "output_type": "execute_result"
    }
   ],
   "source": [
    "fruits = pd.DataFrame(\n",
    "    {\n",
    "        \"name\": [\"apple\", \"banana\", \"apple\", \"orange\"],\n",
    "        \"store\": [\"Aldi\", \"Walmart\", \"Walmart\", \"Aldi\"],\n",
    "        \"price\": [2, 1, 3, 4],\n",
    "    }\n",
    ")\n",
    "\n",
    "schema = pa.DataFrameSchema(\n",
    "    {\n",
    "        \"name\": Column(str, Check.isin(available_fruits)),\n",
    "        \"store\": Column(str, Check.isin(nearby_stores)),\n",
    "        \"price\": Column(int, Check.less_than(5)),\n",
    "    }\n",
    ")\n",
    "\n",
    "\n",
    "def get_total_price(fruits: pd.DataFrame, schema: pa.DataFrameSchema):\n",
    "    validated = schema.validate(fruits)\n",
    "    return validated[\"price\"].sum()\n",
    "\n",
    "\n",
    "get_total_price(fruits, schema)"
   ]
  },
  {
   "cell_type": "code",
   "execution_count": 16,
   "id": "a3e6b055",
   "metadata": {
    "ExecuteTime": {
     "end_time": "2022-03-25T19:11:03.765825Z",
     "start_time": "2022-03-25T19:11:03.672303Z"
    },
    "code_folding": []
   },
   "outputs": [],
   "source": [
    "def test_get_total_price():\n",
    "    fruits = pd.DataFrame({'name': ['apple', 'banana'], 'store': ['Aldi', 'Walmart'], 'price': [1, 2]})\n",
    "    \n",
    "    schema = pa.DataFrameSchema(\n",
    "        {\n",
    "            \"name\": Column(str, Check.isin(available_fruits)),\n",
    "            \"store\": Column(str, Check.isin(nearby_stores)),\n",
    "            \"price\": Column(int, Check.less_than(5)),\n",
    "        }\n",
    "    )\n",
    "    assert get_total_price(fruits, schema) == 3"
   ]
  },
  {
   "cell_type": "markdown",
   "id": "a7757a05-fffc-4e63-8abe-cb123d58ca1b",
   "metadata": {},
   "source": [
    "由於上面兩個範例在做測試資料與函數會需要的參數包括 fruits, schema 比較多餘。  \n",
    "可以運用 decorator 進行測試。"
   ]
  },
  {
   "cell_type": "code",
   "execution_count": 19,
   "id": "f4fe5959",
   "metadata": {
    "ExecuteTime": {
     "end_time": "2022-03-25T19:17:18.886164Z",
     "start_time": "2022-03-25T19:17:18.616689Z"
    },
    "scrolled": true,
    "tags": []
   },
   "outputs": [
    {
     "ename": "SchemaError",
     "evalue": "error in check_input decorator of function 'get_total_price': expected series 'price' to have type int64, got object",
     "output_type": "error",
     "traceback": [
      "\u001b[0;31m---------------------------------------------------------------------------\u001b[0m",
      "\u001b[0;31mSchemaError\u001b[0m                               Traceback (most recent call last)",
      "File \u001b[0;32m~/.local/share/virtualenvs/dev-jupyter-FsiMdHVb/lib/python3.8/site-packages/pandera/decorators.py:221\u001b[0m, in \u001b[0;36mcheck_input.<locals>._wrapper\u001b[0;34m(fn, instance, args, kwargs)\u001b[0m\n\u001b[1;32m    220\u001b[0m \u001b[38;5;28;01mtry\u001b[39;00m:\n\u001b[0;32m--> 221\u001b[0m     args[\u001b[38;5;241m0\u001b[39m] \u001b[38;5;241m=\u001b[39m \u001b[43mschema\u001b[49m\u001b[38;5;241;43m.\u001b[39;49m\u001b[43mvalidate\u001b[49m\u001b[43m(\u001b[49m\u001b[43margs\u001b[49m\u001b[43m[\u001b[49m\u001b[38;5;241;43m0\u001b[39;49m\u001b[43m]\u001b[49m\u001b[43m,\u001b[49m\u001b[43m \u001b[49m\u001b[38;5;241;43m*\u001b[39;49m\u001b[43mvalidate_args\u001b[49m\u001b[43m)\u001b[49m\n\u001b[1;32m    222\u001b[0m \u001b[38;5;28;01mexcept\u001b[39;00m errors\u001b[38;5;241m.\u001b[39mSchemaError \u001b[38;5;28;01mas\u001b[39;00m e:\n",
      "File \u001b[0;32m~/.local/share/virtualenvs/dev-jupyter-FsiMdHVb/lib/python3.8/site-packages/pandera/schemas.py:534\u001b[0m, in \u001b[0;36mDataFrameSchema.validate\u001b[0;34m(self, check_obj, head, tail, sample, random_state, lazy, inplace)\u001b[0m\n\u001b[1;32m    532\u001b[0m     \u001b[38;5;28;01mreturn\u001b[39;00m check_obj\u001b[38;5;241m.\u001b[39mpandera\u001b[38;5;241m.\u001b[39madd_schema(\u001b[38;5;28mself\u001b[39m)\n\u001b[0;32m--> 534\u001b[0m \u001b[38;5;28;01mreturn\u001b[39;00m \u001b[38;5;28;43mself\u001b[39;49m\u001b[38;5;241;43m.\u001b[39;49m\u001b[43m_validate\u001b[49m\u001b[43m(\u001b[49m\n\u001b[1;32m    535\u001b[0m \u001b[43m    \u001b[49m\u001b[43mcheck_obj\u001b[49m\u001b[38;5;241;43m=\u001b[39;49m\u001b[43mcheck_obj\u001b[49m\u001b[43m,\u001b[49m\n\u001b[1;32m    536\u001b[0m \u001b[43m    \u001b[49m\u001b[43mhead\u001b[49m\u001b[38;5;241;43m=\u001b[39;49m\u001b[43mhead\u001b[49m\u001b[43m,\u001b[49m\n\u001b[1;32m    537\u001b[0m \u001b[43m    \u001b[49m\u001b[43mtail\u001b[49m\u001b[38;5;241;43m=\u001b[39;49m\u001b[43mtail\u001b[49m\u001b[43m,\u001b[49m\n\u001b[1;32m    538\u001b[0m \u001b[43m    \u001b[49m\u001b[43msample\u001b[49m\u001b[38;5;241;43m=\u001b[39;49m\u001b[43msample\u001b[49m\u001b[43m,\u001b[49m\n\u001b[1;32m    539\u001b[0m \u001b[43m    \u001b[49m\u001b[43mrandom_state\u001b[49m\u001b[38;5;241;43m=\u001b[39;49m\u001b[43mrandom_state\u001b[49m\u001b[43m,\u001b[49m\n\u001b[1;32m    540\u001b[0m \u001b[43m    \u001b[49m\u001b[43mlazy\u001b[49m\u001b[38;5;241;43m=\u001b[39;49m\u001b[43mlazy\u001b[49m\u001b[43m,\u001b[49m\n\u001b[1;32m    541\u001b[0m \u001b[43m    \u001b[49m\u001b[43minplace\u001b[49m\u001b[38;5;241;43m=\u001b[39;49m\u001b[43minplace\u001b[49m\u001b[43m,\u001b[49m\n\u001b[1;32m    542\u001b[0m \u001b[43m\u001b[49m\u001b[43m)\u001b[49m\n",
      "File \u001b[0;32m~/.local/share/virtualenvs/dev-jupyter-FsiMdHVb/lib/python3.8/site-packages/pandera/schemas.py:732\u001b[0m, in \u001b[0;36mDataFrameSchema._validate\u001b[0;34m(self, check_obj, head, tail, sample, random_state, lazy, inplace)\u001b[0m\n\u001b[1;32m    731\u001b[0m \u001b[38;5;28;01mexcept\u001b[39;00m errors\u001b[38;5;241m.\u001b[39mSchemaError \u001b[38;5;28;01mas\u001b[39;00m err:\n\u001b[0;32m--> 732\u001b[0m     \u001b[43merror_handler\u001b[49m\u001b[38;5;241;43m.\u001b[39;49m\u001b[43mcollect_error\u001b[49m\u001b[43m(\u001b[49m\u001b[38;5;124;43m\"\u001b[39;49m\u001b[38;5;124;43mschema_component_check\u001b[39;49m\u001b[38;5;124;43m\"\u001b[39;49m\u001b[43m,\u001b[49m\u001b[43m \u001b[49m\u001b[43merr\u001b[49m\u001b[43m)\u001b[49m\n\u001b[1;32m    733\u001b[0m \u001b[38;5;28;01mexcept\u001b[39;00m errors\u001b[38;5;241m.\u001b[39mSchemaErrors \u001b[38;5;28;01mas\u001b[39;00m err:\n",
      "File \u001b[0;32m~/.local/share/virtualenvs/dev-jupyter-FsiMdHVb/lib/python3.8/site-packages/pandera/error_handlers.py:32\u001b[0m, in \u001b[0;36mSchemaErrorHandler.collect_error\u001b[0;34m(self, reason_code, schema_error, original_exc)\u001b[0m\n\u001b[1;32m     31\u001b[0m \u001b[38;5;28;01mif\u001b[39;00m \u001b[38;5;129;01mnot\u001b[39;00m \u001b[38;5;28mself\u001b[39m\u001b[38;5;241m.\u001b[39m_lazy:\n\u001b[0;32m---> 32\u001b[0m     \u001b[38;5;28;01mraise\u001b[39;00m schema_error \u001b[38;5;28;01mfrom\u001b[39;00m \u001b[38;5;21;01moriginal_exc\u001b[39;00m\n\u001b[1;32m     34\u001b[0m \u001b[38;5;66;03m# delete data of validated object from SchemaError object to prevent\u001b[39;00m\n\u001b[1;32m     35\u001b[0m \u001b[38;5;66;03m# storing copies of the validated DataFrame/Series for every\u001b[39;00m\n\u001b[1;32m     36\u001b[0m \u001b[38;5;66;03m# SchemaError collected.\u001b[39;00m\n",
      "File \u001b[0;32m~/.local/share/virtualenvs/dev-jupyter-FsiMdHVb/lib/python3.8/site-packages/pandera/schemas.py:724\u001b[0m, in \u001b[0;36mDataFrameSchema._validate\u001b[0;34m(self, check_obj, head, tail, sample, random_state, lazy, inplace)\u001b[0m\n\u001b[1;32m    723\u001b[0m \u001b[38;5;28;01mtry\u001b[39;00m:\n\u001b[0;32m--> 724\u001b[0m     result \u001b[38;5;241m=\u001b[39m \u001b[43mschema_component\u001b[49m\u001b[43m(\u001b[49m\n\u001b[1;32m    725\u001b[0m \u001b[43m        \u001b[49m\u001b[43mdf_to_validate\u001b[49m\u001b[43m,\u001b[49m\n\u001b[1;32m    726\u001b[0m \u001b[43m        \u001b[49m\u001b[43mlazy\u001b[49m\u001b[38;5;241;43m=\u001b[39;49m\u001b[43mlazy\u001b[49m\u001b[43m,\u001b[49m\n\u001b[1;32m    727\u001b[0m \u001b[43m        \u001b[49m\u001b[38;5;66;43;03m# don't make a copy of the data\u001b[39;49;00m\n\u001b[1;32m    728\u001b[0m \u001b[43m        \u001b[49m\u001b[43minplace\u001b[49m\u001b[38;5;241;43m=\u001b[39;49m\u001b[38;5;28;43;01mTrue\u001b[39;49;00m\u001b[43m,\u001b[49m\n\u001b[1;32m    729\u001b[0m \u001b[43m    \u001b[49m\u001b[43m)\u001b[49m\n\u001b[1;32m    730\u001b[0m     check_results\u001b[38;5;241m.\u001b[39mappend(check_utils\u001b[38;5;241m.\u001b[39mis_table(result))\n",
      "File \u001b[0;32m~/.local/share/virtualenvs/dev-jupyter-FsiMdHVb/lib/python3.8/site-packages/pandera/schemas.py:2138\u001b[0m, in \u001b[0;36mSeriesSchemaBase.__call__\u001b[0;34m(self, check_obj, head, tail, sample, random_state, lazy, inplace)\u001b[0m\n\u001b[1;32m   2137\u001b[0m \u001b[38;5;124;03m\"\"\"Alias for ``validate`` method.\"\"\"\u001b[39;00m\n\u001b[0;32m-> 2138\u001b[0m \u001b[38;5;28;01mreturn\u001b[39;00m \u001b[38;5;28;43mself\u001b[39;49m\u001b[38;5;241;43m.\u001b[39;49m\u001b[43mvalidate\u001b[49m\u001b[43m(\u001b[49m\n\u001b[1;32m   2139\u001b[0m \u001b[43m    \u001b[49m\u001b[43mcheck_obj\u001b[49m\u001b[43m,\u001b[49m\u001b[43m \u001b[49m\u001b[43mhead\u001b[49m\u001b[43m,\u001b[49m\u001b[43m \u001b[49m\u001b[43mtail\u001b[49m\u001b[43m,\u001b[49m\u001b[43m \u001b[49m\u001b[43msample\u001b[49m\u001b[43m,\u001b[49m\u001b[43m \u001b[49m\u001b[43mrandom_state\u001b[49m\u001b[43m,\u001b[49m\u001b[43m \u001b[49m\u001b[43mlazy\u001b[49m\u001b[43m,\u001b[49m\u001b[43m \u001b[49m\u001b[43minplace\u001b[49m\n\u001b[1;32m   2140\u001b[0m \u001b[43m\u001b[49m\u001b[43m)\u001b[49m\n",
      "File \u001b[0;32m~/.local/share/virtualenvs/dev-jupyter-FsiMdHVb/lib/python3.8/site-packages/pandera/schema_components.py:223\u001b[0m, in \u001b[0;36mColumn.validate\u001b[0;34m(self, check_obj, head, tail, sample, random_state, lazy, inplace)\u001b[0m\n\u001b[1;32m    222\u001b[0m     \u001b[38;5;28;01melse\u001b[39;00m:\n\u001b[0;32m--> 223\u001b[0m         \u001b[43mvalidate_column\u001b[49m\u001b[43m(\u001b[49m\u001b[43mcheck_obj\u001b[49m\u001b[43m,\u001b[49m\u001b[43m \u001b[49m\u001b[43mcolumn_name\u001b[49m\u001b[43m)\u001b[49m\n\u001b[1;32m    225\u001b[0m \u001b[38;5;28;01mreturn\u001b[39;00m check_obj\n",
      "File \u001b[0;32m~/.local/share/virtualenvs/dev-jupyter-FsiMdHVb/lib/python3.8/site-packages/pandera/schema_components.py:196\u001b[0m, in \u001b[0;36mColumn.validate.<locals>.validate_column\u001b[0;34m(check_obj, column_name)\u001b[0m\n\u001b[1;32m    195\u001b[0m \u001b[38;5;28;01mdef\u001b[39;00m \u001b[38;5;21mvalidate_column\u001b[39m(check_obj, column_name):\n\u001b[0;32m--> 196\u001b[0m     \u001b[38;5;28;43msuper\u001b[39;49m\u001b[43m(\u001b[49m\u001b[43mColumn\u001b[49m\u001b[43m,\u001b[49m\u001b[43m \u001b[49m\u001b[43mcopy\u001b[49m\u001b[43m(\u001b[49m\u001b[38;5;28;43mself\u001b[39;49m\u001b[43m)\u001b[49m\u001b[38;5;241;43m.\u001b[39;49m\u001b[43mset_name\u001b[49m\u001b[43m(\u001b[49m\u001b[43mcolumn_name\u001b[49m\u001b[43m)\u001b[49m\u001b[43m)\u001b[49m\u001b[38;5;241;43m.\u001b[39;49m\u001b[43mvalidate\u001b[49m\u001b[43m(\u001b[49m\n\u001b[1;32m    197\u001b[0m \u001b[43m        \u001b[49m\u001b[43mcheck_obj\u001b[49m\u001b[43m,\u001b[49m\n\u001b[1;32m    198\u001b[0m \u001b[43m        \u001b[49m\u001b[43mhead\u001b[49m\u001b[43m,\u001b[49m\n\u001b[1;32m    199\u001b[0m \u001b[43m        \u001b[49m\u001b[43mtail\u001b[49m\u001b[43m,\u001b[49m\n\u001b[1;32m    200\u001b[0m \u001b[43m        \u001b[49m\u001b[43msample\u001b[49m\u001b[43m,\u001b[49m\n\u001b[1;32m    201\u001b[0m \u001b[43m        \u001b[49m\u001b[43mrandom_state\u001b[49m\u001b[43m,\u001b[49m\n\u001b[1;32m    202\u001b[0m \u001b[43m        \u001b[49m\u001b[43mlazy\u001b[49m\u001b[43m,\u001b[49m\n\u001b[1;32m    203\u001b[0m \u001b[43m        \u001b[49m\u001b[43minplace\u001b[49m\u001b[38;5;241;43m=\u001b[39;49m\u001b[43minplace\u001b[49m\u001b[43m,\u001b[49m\n\u001b[1;32m    204\u001b[0m \u001b[43m    \u001b[49m\u001b[43m)\u001b[49m\n",
      "File \u001b[0;32m~/.local/share/virtualenvs/dev-jupyter-FsiMdHVb/lib/python3.8/site-packages/pandera/schemas.py:2071\u001b[0m, in \u001b[0;36mSeriesSchemaBase.validate\u001b[0;34m(self, check_obj, head, tail, sample, random_state, lazy, inplace)\u001b[0m\n\u001b[1;32m   2069\u001b[0m     \u001b[38;5;28;01mif\u001b[39;00m failure_cases \u001b[38;5;129;01mis\u001b[39;00m \u001b[38;5;129;01mnot\u001b[39;00m \u001b[38;5;28;01mNone\u001b[39;00m \u001b[38;5;129;01mand\u001b[39;00m \u001b[38;5;129;01mnot\u001b[39;00m failure_cases\u001b[38;5;241m.\u001b[39mempty:\n\u001b[0;32m-> 2071\u001b[0m         \u001b[43merror_handler\u001b[49m\u001b[38;5;241;43m.\u001b[39;49m\u001b[43mcollect_error\u001b[49m\u001b[43m(\u001b[49m\n\u001b[1;32m   2072\u001b[0m \u001b[43m            \u001b[49m\u001b[38;5;124;43m\"\u001b[39;49m\u001b[38;5;124;43mwrong_dtype\u001b[39;49m\u001b[38;5;124;43m\"\u001b[39;49m\u001b[43m,\u001b[49m\n\u001b[1;32m   2073\u001b[0m \u001b[43m            \u001b[49m\u001b[43merrors\u001b[49m\u001b[38;5;241;43m.\u001b[39;49m\u001b[43mSchemaError\u001b[49m\u001b[43m(\u001b[49m\n\u001b[1;32m   2074\u001b[0m \u001b[43m                \u001b[49m\u001b[38;5;28;43mself\u001b[39;49m\u001b[43m,\u001b[49m\n\u001b[1;32m   2075\u001b[0m \u001b[43m                \u001b[49m\u001b[43mcheck_obj\u001b[49m\u001b[43m,\u001b[49m\n\u001b[1;32m   2076\u001b[0m \u001b[43m                \u001b[49m\u001b[43mmsg\u001b[49m\u001b[43m,\u001b[49m\n\u001b[1;32m   2077\u001b[0m \u001b[43m                \u001b[49m\u001b[43mfailure_cases\u001b[49m\u001b[38;5;241;43m=\u001b[39;49m\u001b[43mfailure_cases\u001b[49m\u001b[43m,\u001b[49m\n\u001b[1;32m   2078\u001b[0m \u001b[43m                \u001b[49m\u001b[43mcheck\u001b[49m\u001b[38;5;241;43m=\u001b[39;49m\u001b[38;5;124;43mf\u001b[39;49m\u001b[38;5;124;43m\"\u001b[39;49m\u001b[38;5;124;43mdtype(\u001b[39;49m\u001b[38;5;124;43m'\u001b[39;49m\u001b[38;5;132;43;01m{\u001b[39;49;00m\u001b[38;5;28;43mself\u001b[39;49m\u001b[38;5;241;43m.\u001b[39;49m\u001b[43mdtype\u001b[49m\u001b[38;5;132;43;01m}\u001b[39;49;00m\u001b[38;5;124;43m'\u001b[39;49m\u001b[38;5;124;43m)\u001b[39;49m\u001b[38;5;124;43m\"\u001b[39;49m\u001b[43m,\u001b[49m\n\u001b[1;32m   2079\u001b[0m \u001b[43m            \u001b[49m\u001b[43m)\u001b[49m\u001b[43m,\u001b[49m\n\u001b[1;32m   2080\u001b[0m \u001b[43m        \u001b[49m\u001b[43m)\u001b[49m\n\u001b[1;32m   2082\u001b[0m check_results \u001b[38;5;241m=\u001b[39m []\n",
      "File \u001b[0;32m~/.local/share/virtualenvs/dev-jupyter-FsiMdHVb/lib/python3.8/site-packages/pandera/error_handlers.py:32\u001b[0m, in \u001b[0;36mSchemaErrorHandler.collect_error\u001b[0;34m(self, reason_code, schema_error, original_exc)\u001b[0m\n\u001b[1;32m     31\u001b[0m \u001b[38;5;28;01mif\u001b[39;00m \u001b[38;5;129;01mnot\u001b[39;00m \u001b[38;5;28mself\u001b[39m\u001b[38;5;241m.\u001b[39m_lazy:\n\u001b[0;32m---> 32\u001b[0m     \u001b[38;5;28;01mraise\u001b[39;00m schema_error \u001b[38;5;28;01mfrom\u001b[39;00m \u001b[38;5;21;01moriginal_exc\u001b[39;00m\n\u001b[1;32m     34\u001b[0m \u001b[38;5;66;03m# delete data of validated object from SchemaError object to prevent\u001b[39;00m\n\u001b[1;32m     35\u001b[0m \u001b[38;5;66;03m# storing copies of the validated DataFrame/Series for every\u001b[39;00m\n\u001b[1;32m     36\u001b[0m \u001b[38;5;66;03m# SchemaError collected.\u001b[39;00m\n",
      "\u001b[0;31mSchemaError\u001b[0m: expected series 'price' to have type int64, got object",
      "\nThe above exception was the direct cause of the following exception:\n",
      "\u001b[0;31mSchemaError\u001b[0m                               Traceback (most recent call last)",
      "Input \u001b[0;32mIn [19]\u001b[0m, in \u001b[0;36m<cell line: 25>\u001b[0;34m()\u001b[0m\n\u001b[1;32m     20\u001b[0m \u001b[38;5;129m@check_input\u001b[39m(schema)\n\u001b[1;32m     21\u001b[0m \u001b[38;5;28;01mdef\u001b[39;00m \u001b[38;5;21mget_total_price\u001b[39m(fruits: pd\u001b[38;5;241m.\u001b[39mDataFrame):\n\u001b[1;32m     22\u001b[0m     \u001b[38;5;28;01mreturn\u001b[39;00m fruits\u001b[38;5;241m.\u001b[39mprice\u001b[38;5;241m.\u001b[39msum()\n\u001b[0;32m---> 25\u001b[0m \u001b[43mget_total_price\u001b[49m\u001b[43m(\u001b[49m\u001b[43mfruits\u001b[49m\u001b[43m)\u001b[49m\n",
      "File \u001b[0;32m~/.local/share/virtualenvs/dev-jupyter-FsiMdHVb/lib/python3.8/site-packages/pandera/decorators.py:223\u001b[0m, in \u001b[0;36mcheck_input.<locals>._wrapper\u001b[0;34m(fn, instance, args, kwargs)\u001b[0m\n\u001b[1;32m    221\u001b[0m         args[\u001b[38;5;241m0\u001b[39m] \u001b[38;5;241m=\u001b[39m schema\u001b[38;5;241m.\u001b[39mvalidate(args[\u001b[38;5;241m0\u001b[39m], \u001b[38;5;241m*\u001b[39mvalidate_args)\n\u001b[1;32m    222\u001b[0m     \u001b[38;5;28;01mexcept\u001b[39;00m errors\u001b[38;5;241m.\u001b[39mSchemaError \u001b[38;5;28;01mas\u001b[39;00m e:\n\u001b[0;32m--> 223\u001b[0m         \u001b[43m_handle_schema_error\u001b[49m\u001b[43m(\u001b[49m\u001b[38;5;124;43m\"\u001b[39;49m\u001b[38;5;124;43mcheck_input\u001b[39;49m\u001b[38;5;124;43m\"\u001b[39;49m\u001b[43m,\u001b[49m\u001b[43m \u001b[49m\u001b[43mfn\u001b[49m\u001b[43m,\u001b[49m\u001b[43m \u001b[49m\u001b[43mschema\u001b[49m\u001b[43m,\u001b[49m\u001b[43m \u001b[49m\u001b[43margs\u001b[49m\u001b[43m[\u001b[49m\u001b[38;5;241;43m0\u001b[39;49m\u001b[43m]\u001b[49m\u001b[43m,\u001b[49m\u001b[43m \u001b[49m\u001b[43me\u001b[49m\u001b[43m)\u001b[49m\n\u001b[1;32m    224\u001b[0m \u001b[38;5;28;01melif\u001b[39;00m obj_getter \u001b[38;5;129;01mis\u001b[39;00m \u001b[38;5;28;01mNone\u001b[39;00m \u001b[38;5;129;01mand\u001b[39;00m kwargs:\n\u001b[1;32m    225\u001b[0m     \u001b[38;5;66;03m# get the first key in the same order specified in the\u001b[39;00m\n\u001b[1;32m    226\u001b[0m     \u001b[38;5;66;03m# function argument.\u001b[39;00m\n\u001b[1;32m    227\u001b[0m     args_names \u001b[38;5;241m=\u001b[39m _get_fn_argnames(fn)\n",
      "File \u001b[0;32m~/.local/share/virtualenvs/dev-jupyter-FsiMdHVb/lib/python3.8/site-packages/pandera/decorators.py:98\u001b[0m, in \u001b[0;36m_handle_schema_error\u001b[0;34m(decorator_name, fn, schema, arg_df, schema_error)\u001b[0m\n\u001b[1;32m     96\u001b[0m     func_name \u001b[38;5;241m=\u001b[39m fn\u001b[38;5;241m.\u001b[39m\u001b[38;5;18m__self__\u001b[39m\u001b[38;5;241m.\u001b[39m\u001b[38;5;18m__class__\u001b[39m\u001b[38;5;241m.\u001b[39m\u001b[38;5;18m__name__\u001b[39m \u001b[38;5;241m+\u001b[39m \u001b[38;5;124m\"\u001b[39m\u001b[38;5;124m.\u001b[39m\u001b[38;5;124m\"\u001b[39m \u001b[38;5;241m+\u001b[39m func_name\n\u001b[1;32m     97\u001b[0m msg \u001b[38;5;241m=\u001b[39m \u001b[38;5;124mf\u001b[39m\u001b[38;5;124m\"\u001b[39m\u001b[38;5;124merror in \u001b[39m\u001b[38;5;132;01m{\u001b[39;00mdecorator_name\u001b[38;5;132;01m}\u001b[39;00m\u001b[38;5;124m decorator of function \u001b[39m\u001b[38;5;124m'\u001b[39m\u001b[38;5;132;01m{\u001b[39;00mfunc_name\u001b[38;5;132;01m}\u001b[39;00m\u001b[38;5;124m'\u001b[39m\u001b[38;5;124m: \u001b[39m\u001b[38;5;132;01m{\u001b[39;00mschema_error\u001b[38;5;132;01m}\u001b[39;00m\u001b[38;5;124m\"\u001b[39m\n\u001b[0;32m---> 98\u001b[0m \u001b[38;5;28;01mraise\u001b[39;00m errors\u001b[38;5;241m.\u001b[39mSchemaError(\n\u001b[1;32m     99\u001b[0m     schema,\n\u001b[1;32m    100\u001b[0m     arg_df,\n\u001b[1;32m    101\u001b[0m     msg,\n\u001b[1;32m    102\u001b[0m     failure_cases\u001b[38;5;241m=\u001b[39mschema_error\u001b[38;5;241m.\u001b[39mfailure_cases,\n\u001b[1;32m    103\u001b[0m     check\u001b[38;5;241m=\u001b[39mschema_error\u001b[38;5;241m.\u001b[39mcheck,\n\u001b[1;32m    104\u001b[0m     check_index\u001b[38;5;241m=\u001b[39mschema_error\u001b[38;5;241m.\u001b[39mcheck_index,\n\u001b[1;32m    105\u001b[0m ) \u001b[38;5;28;01mfrom\u001b[39;00m \u001b[38;5;21;01mschema_error\u001b[39;00m\n",
      "\u001b[0;31mSchemaError\u001b[0m: error in check_input decorator of function 'get_total_price': expected series 'price' to have type int64, got object"
     ]
    }
   ],
   "source": [
    "from pandera import check_input\n",
    "\n",
    "fruits = pd.DataFrame(\n",
    "    {\n",
    "        \"name\": [\"apple\", \"banana\", \"apple\", \"orange\"],\n",
    "        \"store\": [\"Aldi\", \"Walmart\", \"Walmart\", \"Aldi\"],\n",
    "        \"price\": [\"2\", \"1\", \"3\", \"4\"],\n",
    "    }\n",
    ")\n",
    "\n",
    "\n",
    "schema = pa.DataFrameSchema(\n",
    "    {\n",
    "        \"name\": Column(str, Check.isin(available_fruits)),\n",
    "        \"store\": Column(str, Check.isin(nearby_stores)),\n",
    "        \"price\": Column(int, Check.less_than(5)),\n",
    "    }\n",
    ")\n",
    "\n",
    "@check_input(schema)\n",
    "def get_total_price(fruits: pd.DataFrame):\n",
    "    return fruits.price.sum()\n",
    "\n",
    "\n",
    "get_total_price(fruits)"
   ]
  },
  {
   "cell_type": "code",
   "execution_count": 20,
   "id": "1078ca06",
   "metadata": {
    "ExecuteTime": {
     "end_time": "2022-03-25T19:08:44.613005Z",
     "start_time": "2022-03-25T19:08:44.527232Z"
    }
   },
   "outputs": [],
   "source": [
    "def test_get_total_price():\n",
    "    fruits = pd.DataFrame({'name': ['apple', 'banana'], 'store': ['Aldi', 'Walmart'], 'price': [1, 2]})\n",
    "    assert get_total_price(fruits) == 3"
   ]
  },
  {
   "cell_type": "markdown",
   "id": "47fe5471",
   "metadata": {},
   "source": [
    "## Check Output"
   ]
  },
  {
   "cell_type": "code",
   "execution_count": 21,
   "id": "f4000414",
   "metadata": {
    "ExecuteTime": {
     "end_time": "2022-03-25T19:23:45.156508Z",
     "start_time": "2022-03-25T19:23:45.121056Z"
    },
    "code_folding": []
   },
   "outputs": [
    {
     "data": {
      "text/html": [
       "<div>\n",
       "<style scoped>\n",
       "    .dataframe tbody tr th:only-of-type {\n",
       "        vertical-align: middle;\n",
       "    }\n",
       "\n",
       "    .dataframe tbody tr th {\n",
       "        vertical-align: top;\n",
       "    }\n",
       "\n",
       "    .dataframe thead th {\n",
       "        text-align: right;\n",
       "    }\n",
       "</style>\n",
       "<table border=\"1\" class=\"dataframe\">\n",
       "  <thead>\n",
       "    <tr style=\"text-align: right;\">\n",
       "      <th></th>\n",
       "      <th>name</th>\n",
       "      <th>store</th>\n",
       "      <th>price</th>\n",
       "    </tr>\n",
       "  </thead>\n",
       "  <tbody>\n",
       "    <tr>\n",
       "      <th>0</th>\n",
       "      <td>apple</td>\n",
       "      <td>Aldi</td>\n",
       "      <td>2</td>\n",
       "    </tr>\n",
       "    <tr>\n",
       "      <th>1</th>\n",
       "      <td>banana</td>\n",
       "      <td>Walmart</td>\n",
       "      <td>1</td>\n",
       "    </tr>\n",
       "    <tr>\n",
       "      <th>2</th>\n",
       "      <td>apple</td>\n",
       "      <td>Walmart</td>\n",
       "      <td>3</td>\n",
       "    </tr>\n",
       "    <tr>\n",
       "      <th>3</th>\n",
       "      <td>orange</td>\n",
       "      <td>Aldi</td>\n",
       "      <td>4</td>\n",
       "    </tr>\n",
       "    <tr>\n",
       "      <th>0</th>\n",
       "      <td>apple</td>\n",
       "      <td>Whole Foods</td>\n",
       "      <td>3</td>\n",
       "    </tr>\n",
       "    <tr>\n",
       "      <th>1</th>\n",
       "      <td>banana</td>\n",
       "      <td>Whole Foods</td>\n",
       "      <td>2</td>\n",
       "    </tr>\n",
       "    <tr>\n",
       "      <th>2</th>\n",
       "      <td>apple</td>\n",
       "      <td>Schnucks</td>\n",
       "      <td>4</td>\n",
       "    </tr>\n",
       "    <tr>\n",
       "      <th>3</th>\n",
       "      <td>orange</td>\n",
       "      <td>Schnucks</td>\n",
       "      <td>5</td>\n",
       "    </tr>\n",
       "  </tbody>\n",
       "</table>\n",
       "</div>"
      ],
      "text/plain": [
       "     name        store  price\n",
       "0   apple         Aldi      2\n",
       "1  banana      Walmart      1\n",
       "2   apple      Walmart      3\n",
       "3  orange         Aldi      4\n",
       "0   apple  Whole Foods      3\n",
       "1  banana  Whole Foods      2\n",
       "2   apple     Schnucks      4\n",
       "3  orange     Schnucks      5"
      ]
     },
     "execution_count": 21,
     "metadata": {},
     "output_type": "execute_result"
    }
   ],
   "source": [
    "fruits_nearby = pd.DataFrame(\n",
    "    {\n",
    "        \"name\": [\"apple\", \"banana\", \"apple\", \"orange\"],\n",
    "        \"store\": [\"Aldi\", \"Walmart\", \"Walmart\", \"Aldi\"],\n",
    "        \"price\": [2, 1, 3, 4],\n",
    "    }\n",
    ")\n",
    "\n",
    "fruits_faraway = pd.DataFrame(\n",
    "    {\n",
    "        \"name\": [\"apple\", \"banana\", \"apple\", \"orange\"],\n",
    "        \"store\": [\"Whole Foods\", \"Whole Foods\", \"Schnucks\", \"Schnucks\"],\n",
    "        \"price\": [3, 2, 4, 5],\n",
    "    }\n",
    ")\n",
    "\n",
    "out_schema = pa.DataFrameSchema(\n",
    "    {\"store\": Column(str, Check.isin([\"Aldi\", \"Walmart\", \"Whole Foods\", \"Schnucks\"]))}\n",
    ")\n",
    "\n",
    "\n",
    "@check_output(out_schema)\n",
    "def combine_fruits(fruits_nearby: pd.DataFrame, fruits_faraway: pd.DataFrame):\n",
    "    fruits = pd.concat([fruits_nearby, fruits_faraway])\n",
    "    return fruits\n",
    "\n",
    "\n",
    "combine_fruits(fruits_nearby, fruits_faraway)"
   ]
  },
  {
   "cell_type": "markdown",
   "id": "c56d96d2",
   "metadata": {},
   "source": [
    "## Check Both"
   ]
  },
  {
   "cell_type": "code",
   "execution_count": 22,
   "id": "1fcc660e",
   "metadata": {
    "ExecuteTime": {
     "end_time": "2022-03-25T19:23:56.679696Z",
     "start_time": "2022-03-25T19:23:56.654195Z"
    }
   },
   "outputs": [
    {
     "data": {
      "text/html": [
       "<div>\n",
       "<style scoped>\n",
       "    .dataframe tbody tr th:only-of-type {\n",
       "        vertical-align: middle;\n",
       "    }\n",
       "\n",
       "    .dataframe tbody tr th {\n",
       "        vertical-align: top;\n",
       "    }\n",
       "\n",
       "    .dataframe thead th {\n",
       "        text-align: right;\n",
       "    }\n",
       "</style>\n",
       "<table border=\"1\" class=\"dataframe\">\n",
       "  <thead>\n",
       "    <tr style=\"text-align: right;\">\n",
       "      <th></th>\n",
       "      <th>name</th>\n",
       "      <th>store</th>\n",
       "      <th>price</th>\n",
       "    </tr>\n",
       "  </thead>\n",
       "  <tbody>\n",
       "    <tr>\n",
       "      <th>0</th>\n",
       "      <td>apple</td>\n",
       "      <td>Aldi</td>\n",
       "      <td>2</td>\n",
       "    </tr>\n",
       "    <tr>\n",
       "      <th>1</th>\n",
       "      <td>banana</td>\n",
       "      <td>Walmart</td>\n",
       "      <td>1</td>\n",
       "    </tr>\n",
       "    <tr>\n",
       "      <th>2</th>\n",
       "      <td>apple</td>\n",
       "      <td>Walmart</td>\n",
       "      <td>3</td>\n",
       "    </tr>\n",
       "    <tr>\n",
       "      <th>3</th>\n",
       "      <td>orange</td>\n",
       "      <td>Aldi</td>\n",
       "      <td>4</td>\n",
       "    </tr>\n",
       "    <tr>\n",
       "      <th>0</th>\n",
       "      <td>apple</td>\n",
       "      <td>Whole Foods</td>\n",
       "      <td>3</td>\n",
       "    </tr>\n",
       "    <tr>\n",
       "      <th>1</th>\n",
       "      <td>banana</td>\n",
       "      <td>Whole Foods</td>\n",
       "      <td>2</td>\n",
       "    </tr>\n",
       "    <tr>\n",
       "      <th>2</th>\n",
       "      <td>apple</td>\n",
       "      <td>Schnucks</td>\n",
       "      <td>4</td>\n",
       "    </tr>\n",
       "    <tr>\n",
       "      <th>3</th>\n",
       "      <td>orange</td>\n",
       "      <td>Schnucks</td>\n",
       "      <td>5</td>\n",
       "    </tr>\n",
       "  </tbody>\n",
       "</table>\n",
       "</div>"
      ],
      "text/plain": [
       "     name        store  price\n",
       "0   apple         Aldi      2\n",
       "1  banana      Walmart      1\n",
       "2   apple      Walmart      3\n",
       "3  orange         Aldi      4\n",
       "0   apple  Whole Foods      3\n",
       "1  banana  Whole Foods      2\n",
       "2   apple     Schnucks      4\n",
       "3  orange     Schnucks      5"
      ]
     },
     "execution_count": 22,
     "metadata": {},
     "output_type": "execute_result"
    }
   ],
   "source": [
    "# 只驗證資料型態\n",
    "in_schema = pa.DataFrameSchema({\"store\": Column(str)})\n",
    "\n",
    "# 驗證轉換後資料\n",
    "out_schema = pa.DataFrameSchema(\n",
    "    {\"store\": Column(str, Check.isin([\"Aldi\", \"Walmart\", \"Whole Foods\", \"Schnucks\"]))}\n",
    ")\n",
    "\n",
    "\n",
    "@check_io(fruits_nearby=in_schema, fruits_faraway=in_schema, out=out_schema)\n",
    "def combine_fruits(fruits_nearby: pd.DataFrame, fruits_faraway: pd.DataFrame):\n",
    "    fruits = pd.concat([fruits_nearby, fruits_faraway])\n",
    "    return fruits\n",
    "\n",
    "\n",
    "combine_fruits(fruits_nearby, fruits_faraway)"
   ]
  },
  {
   "cell_type": "markdown",
   "id": "67f25784",
   "metadata": {},
   "source": [
    "# Other Arguments for Column Validation"
   ]
  },
  {
   "cell_type": "markdown",
   "id": "ab134b13",
   "metadata": {},
   "source": [
    "## Deal with Null Values\n",
    "* nullable = True 允許遺失值"
   ]
  },
  {
   "cell_type": "code",
   "execution_count": 7,
   "id": "c07491f2",
   "metadata": {
    "ExecuteTime": {
     "end_time": "2022-03-25T19:31:14.040777Z",
     "start_time": "2022-03-25T19:31:14.023763Z"
    }
   },
   "outputs": [
    {
     "data": {
      "text/html": [
       "<div>\n",
       "<style scoped>\n",
       "    .dataframe tbody tr th:only-of-type {\n",
       "        vertical-align: middle;\n",
       "    }\n",
       "\n",
       "    .dataframe tbody tr th {\n",
       "        vertical-align: top;\n",
       "    }\n",
       "\n",
       "    .dataframe thead th {\n",
       "        text-align: right;\n",
       "    }\n",
       "</style>\n",
       "<table border=\"1\" class=\"dataframe\">\n",
       "  <thead>\n",
       "    <tr style=\"text-align: right;\">\n",
       "      <th></th>\n",
       "      <th>name</th>\n",
       "      <th>store</th>\n",
       "      <th>price</th>\n",
       "    </tr>\n",
       "  </thead>\n",
       "  <tbody>\n",
       "    <tr>\n",
       "      <th>0</th>\n",
       "      <td>apple</td>\n",
       "      <td>Aldi</td>\n",
       "      <td>2</td>\n",
       "    </tr>\n",
       "    <tr>\n",
       "      <th>1</th>\n",
       "      <td>banana</td>\n",
       "      <td>Walmart</td>\n",
       "      <td>1</td>\n",
       "    </tr>\n",
       "    <tr>\n",
       "      <th>2</th>\n",
       "      <td>apple</td>\n",
       "      <td>Walmart</td>\n",
       "      <td>3</td>\n",
       "    </tr>\n",
       "    <tr>\n",
       "      <th>3</th>\n",
       "      <td>orange</td>\n",
       "      <td>NaN</td>\n",
       "      <td>4</td>\n",
       "    </tr>\n",
       "  </tbody>\n",
       "</table>\n",
       "</div>"
      ],
      "text/plain": [
       "     name    store  price\n",
       "0   apple     Aldi      2\n",
       "1  banana  Walmart      1\n",
       "2   apple  Walmart      3\n",
       "3  orange      NaN      4"
      ]
     },
     "execution_count": 7,
     "metadata": {},
     "output_type": "execute_result"
    }
   ],
   "source": [
    "import numpy as np\n",
    "\n",
    "fruits = pd.DataFrame(\n",
    "    {\n",
    "        \"name\": [\"apple\", \"banana\", \"apple\", \"orange\"],\n",
    "        \"store\": [\"Aldi\", \"Walmart\", \"Walmart\", np.nan],\n",
    "        \"price\": [2, 1, 3, 4],\n",
    "    }\n",
    ")\n",
    "\n",
    "fruits"
   ]
  },
  {
   "cell_type": "code",
   "execution_count": 19,
   "id": "57828b2f",
   "metadata": {
    "ExecuteTime": {
     "end_time": "2022-03-25T19:31:14.622436Z",
     "start_time": "2022-03-25T19:31:14.417389Z"
    }
   },
   "outputs": [
    {
     "data": {
      "text/html": [
       "<div>\n",
       "<style scoped>\n",
       "    .dataframe tbody tr th:only-of-type {\n",
       "        vertical-align: middle;\n",
       "    }\n",
       "\n",
       "    .dataframe tbody tr th {\n",
       "        vertical-align: top;\n",
       "    }\n",
       "\n",
       "    .dataframe thead th {\n",
       "        text-align: right;\n",
       "    }\n",
       "</style>\n",
       "<table border=\"1\" class=\"dataframe\">\n",
       "  <thead>\n",
       "    <tr style=\"text-align: right;\">\n",
       "      <th></th>\n",
       "      <th>name</th>\n",
       "      <th>store</th>\n",
       "      <th>price</th>\n",
       "    </tr>\n",
       "  </thead>\n",
       "  <tbody>\n",
       "    <tr>\n",
       "      <th>0</th>\n",
       "      <td>apple</td>\n",
       "      <td>Aldi</td>\n",
       "      <td>2</td>\n",
       "    </tr>\n",
       "    <tr>\n",
       "      <th>1</th>\n",
       "      <td>banana</td>\n",
       "      <td>Walmart</td>\n",
       "      <td>1</td>\n",
       "    </tr>\n",
       "    <tr>\n",
       "      <th>2</th>\n",
       "      <td>apple</td>\n",
       "      <td>Walmart</td>\n",
       "      <td>3</td>\n",
       "    </tr>\n",
       "    <tr>\n",
       "      <th>3</th>\n",
       "      <td>orange</td>\n",
       "      <td>NaN</td>\n",
       "      <td>4</td>\n",
       "    </tr>\n",
       "  </tbody>\n",
       "</table>\n",
       "</div>"
      ],
      "text/plain": [
       "     name    store  price\n",
       "0   apple     Aldi      2\n",
       "1  banana  Walmart      1\n",
       "2   apple  Walmart      3\n",
       "3  orange      NaN      4"
      ]
     },
     "execution_count": 19,
     "metadata": {},
     "output_type": "execute_result"
    }
   ],
   "source": [
    "schema = pa.DataFrameSchema(\n",
    "    {\n",
    "        \"name\": Column(str, Check.isin(available_fruits)),\n",
    "        \"store\": Column(\n",
    "            str,\n",
    "            Check.isin(nearby_stores),\n",
    "            nullable=True,\n",
    "        ),\n",
    "        \"price\": Column(int, Check.less_than(5)),\n",
    "    }\n",
    ")\n",
    "schema.validate(fruits)\n"
   ]
  },
  {
   "cell_type": "markdown",
   "id": "e4998af4",
   "metadata": {},
   "source": [
    "## Deal with Duplicates\n",
    "* unique = True 只能有唯一值"
   ]
  },
  {
   "cell_type": "code",
   "execution_count": 26,
   "id": "a0d79c0a",
   "metadata": {
    "ExecuteTime": {
     "end_time": "2022-03-25T15:35:48.286483Z",
     "start_time": "2022-03-25T15:35:48.217538Z"
    },
    "scrolled": true,
    "tags": []
   },
   "outputs": [
    {
     "ename": "SchemaError",
     "evalue": "series 'store' contains duplicate values:\n2    Walmart\nName: store, dtype: object",
     "output_type": "error",
     "traceback": [
      "\u001b[0;31m---------------------------------------------------------------------------\u001b[0m",
      "\u001b[0;31mSchemaError\u001b[0m                               Traceback (most recent call last)",
      "\u001b[1;32m/Users/khuyen/Data-science/data_science_tools/pandera_example/pandera.ipynb Cell 26'\u001b[0m in \u001b[0;36m<cell line: 13>\u001b[0;34m()\u001b[0m\n\u001b[1;32m      <a href='vscode-notebook-cell:/Users/khuyen/Data-science/data_science_tools/pandera_example/pandera.ipynb#ch0000026?line=0'>1</a>\u001b[0m schema \u001b[39m=\u001b[39m pa\u001b[39m.\u001b[39mDataFrameSchema(\n\u001b[1;32m      <a href='vscode-notebook-cell:/Users/khuyen/Data-science/data_science_tools/pandera_example/pandera.ipynb#ch0000026?line=1'>2</a>\u001b[0m     {\n\u001b[1;32m      <a href='vscode-notebook-cell:/Users/khuyen/Data-science/data_science_tools/pandera_example/pandera.ipynb#ch0000026?line=2'>3</a>\u001b[0m         \u001b[39m\"\u001b[39m\u001b[39mname\u001b[39m\u001b[39m\"\u001b[39m: Column(\u001b[39mstr\u001b[39m, Check\u001b[39m.\u001b[39misin(available_fruits)),\n\u001b[0;32m   (...)\u001b[0m\n\u001b[1;32m     <a href='vscode-notebook-cell:/Users/khuyen/Data-science/data_science_tools/pandera_example/pandera.ipynb#ch0000026?line=10'>11</a>\u001b[0m     }\n\u001b[1;32m     <a href='vscode-notebook-cell:/Users/khuyen/Data-science/data_science_tools/pandera_example/pandera.ipynb#ch0000026?line=11'>12</a>\u001b[0m )\n\u001b[0;32m---> <a href='vscode-notebook-cell:/Users/khuyen/Data-science/data_science_tools/pandera_example/pandera.ipynb#ch0000026?line=12'>13</a>\u001b[0m schema\u001b[39m.\u001b[39;49mvalidate(fruits)\n",
      "File \u001b[0;32m~/Data-science/venv/lib/python3.9/site-packages/pandera/schemas.py:515\u001b[0m, in \u001b[0;36mDataFrameSchema.validate\u001b[0;34m(self, check_obj, head, tail, sample, random_state, lazy, inplace)\u001b[0m\n\u001b[1;32m    <a href='file:///Users/khuyen/Data-science/venv/lib/python3.9/site-packages/pandera/schemas.py?line=501'>502</a>\u001b[0m     check_obj \u001b[39m=\u001b[39m check_obj\u001b[39m.\u001b[39mmap_partitions(\n\u001b[1;32m    <a href='file:///Users/khuyen/Data-science/venv/lib/python3.9/site-packages/pandera/schemas.py?line=502'>503</a>\u001b[0m         \u001b[39mself\u001b[39m\u001b[39m.\u001b[39m_validate,\n\u001b[1;32m    <a href='file:///Users/khuyen/Data-science/venv/lib/python3.9/site-packages/pandera/schemas.py?line=503'>504</a>\u001b[0m         head\u001b[39m=\u001b[39mhead,\n\u001b[0;32m   (...)\u001b[0m\n\u001b[1;32m    <a href='file:///Users/khuyen/Data-science/venv/lib/python3.9/site-packages/pandera/schemas.py?line=509'>510</a>\u001b[0m         meta\u001b[39m=\u001b[39mcheck_obj,\n\u001b[1;32m    <a href='file:///Users/khuyen/Data-science/venv/lib/python3.9/site-packages/pandera/schemas.py?line=510'>511</a>\u001b[0m     )\n\u001b[1;32m    <a href='file:///Users/khuyen/Data-science/venv/lib/python3.9/site-packages/pandera/schemas.py?line=512'>513</a>\u001b[0m     \u001b[39mreturn\u001b[39;00m check_obj\u001b[39m.\u001b[39mpandera\u001b[39m.\u001b[39madd_schema(\u001b[39mself\u001b[39m)\n\u001b[0;32m--> <a href='file:///Users/khuyen/Data-science/venv/lib/python3.9/site-packages/pandera/schemas.py?line=514'>515</a>\u001b[0m \u001b[39mreturn\u001b[39;00m \u001b[39mself\u001b[39;49m\u001b[39m.\u001b[39;49m_validate(\n\u001b[1;32m    <a href='file:///Users/khuyen/Data-science/venv/lib/python3.9/site-packages/pandera/schemas.py?line=515'>516</a>\u001b[0m     check_obj\u001b[39m=\u001b[39;49mcheck_obj,\n\u001b[1;32m    <a href='file:///Users/khuyen/Data-science/venv/lib/python3.9/site-packages/pandera/schemas.py?line=516'>517</a>\u001b[0m     head\u001b[39m=\u001b[39;49mhead,\n\u001b[1;32m    <a href='file:///Users/khuyen/Data-science/venv/lib/python3.9/site-packages/pandera/schemas.py?line=517'>518</a>\u001b[0m     tail\u001b[39m=\u001b[39;49mtail,\n\u001b[1;32m    <a href='file:///Users/khuyen/Data-science/venv/lib/python3.9/site-packages/pandera/schemas.py?line=518'>519</a>\u001b[0m     sample\u001b[39m=\u001b[39;49msample,\n\u001b[1;32m    <a href='file:///Users/khuyen/Data-science/venv/lib/python3.9/site-packages/pandera/schemas.py?line=519'>520</a>\u001b[0m     random_state\u001b[39m=\u001b[39;49mrandom_state,\n\u001b[1;32m    <a href='file:///Users/khuyen/Data-science/venv/lib/python3.9/site-packages/pandera/schemas.py?line=520'>521</a>\u001b[0m     lazy\u001b[39m=\u001b[39;49mlazy,\n\u001b[1;32m    <a href='file:///Users/khuyen/Data-science/venv/lib/python3.9/site-packages/pandera/schemas.py?line=521'>522</a>\u001b[0m     inplace\u001b[39m=\u001b[39;49minplace,\n\u001b[1;32m    <a href='file:///Users/khuyen/Data-science/venv/lib/python3.9/site-packages/pandera/schemas.py?line=522'>523</a>\u001b[0m )\n",
      "File \u001b[0;32m~/Data-science/venv/lib/python3.9/site-packages/pandera/schemas.py:712\u001b[0m, in \u001b[0;36mDataFrameSchema._validate\u001b[0;34m(self, check_obj, head, tail, sample, random_state, lazy, inplace)\u001b[0m\n\u001b[1;32m    <a href='file:///Users/khuyen/Data-science/venv/lib/python3.9/site-packages/pandera/schemas.py?line=709'>710</a>\u001b[0m     check_results\u001b[39m.\u001b[39mappend(check_utils\u001b[39m.\u001b[39mis_table(result))\n\u001b[1;32m    <a href='file:///Users/khuyen/Data-science/venv/lib/python3.9/site-packages/pandera/schemas.py?line=710'>711</a>\u001b[0m \u001b[39mexcept\u001b[39;00m errors\u001b[39m.\u001b[39mSchemaError \u001b[39mas\u001b[39;00m err:\n\u001b[0;32m--> <a href='file:///Users/khuyen/Data-science/venv/lib/python3.9/site-packages/pandera/schemas.py?line=711'>712</a>\u001b[0m     error_handler\u001b[39m.\u001b[39;49mcollect_error(\u001b[39m\"\u001b[39;49m\u001b[39mschema_component_check\u001b[39;49m\u001b[39m\"\u001b[39;49m, err)\n\u001b[1;32m    <a href='file:///Users/khuyen/Data-science/venv/lib/python3.9/site-packages/pandera/schemas.py?line=712'>713</a>\u001b[0m \u001b[39mexcept\u001b[39;00m errors\u001b[39m.\u001b[39mSchemaErrors \u001b[39mas\u001b[39;00m err:\n\u001b[1;32m    <a href='file:///Users/khuyen/Data-science/venv/lib/python3.9/site-packages/pandera/schemas.py?line=713'>714</a>\u001b[0m     \u001b[39mfor\u001b[39;00m schema_error_dict \u001b[39min\u001b[39;00m err\u001b[39m.\u001b[39mschema_errors:\n",
      "File \u001b[0;32m~/Data-science/venv/lib/python3.9/site-packages/pandera/error_handlers.py:32\u001b[0m, in \u001b[0;36mSchemaErrorHandler.collect_error\u001b[0;34m(self, reason_code, schema_error, original_exc)\u001b[0m\n\u001b[1;32m     <a href='file:///Users/khuyen/Data-science/venv/lib/python3.9/site-packages/pandera/error_handlers.py?line=25'>26</a>\u001b[0m \u001b[39m\"\"\"Collect schema error, raising exception if lazy is False.\u001b[39;00m\n\u001b[1;32m     <a href='file:///Users/khuyen/Data-science/venv/lib/python3.9/site-packages/pandera/error_handlers.py?line=26'>27</a>\u001b[0m \n\u001b[1;32m     <a href='file:///Users/khuyen/Data-science/venv/lib/python3.9/site-packages/pandera/error_handlers.py?line=27'>28</a>\u001b[0m \u001b[39m:param reason_code: string representing reason for error\u001b[39;00m\n\u001b[1;32m     <a href='file:///Users/khuyen/Data-science/venv/lib/python3.9/site-packages/pandera/error_handlers.py?line=28'>29</a>\u001b[0m \u001b[39m:param schema_error: ``SchemaError`` object.\u001b[39;00m\n\u001b[1;32m     <a href='file:///Users/khuyen/Data-science/venv/lib/python3.9/site-packages/pandera/error_handlers.py?line=29'>30</a>\u001b[0m \u001b[39m\"\"\"\u001b[39;00m\n\u001b[1;32m     <a href='file:///Users/khuyen/Data-science/venv/lib/python3.9/site-packages/pandera/error_handlers.py?line=30'>31</a>\u001b[0m \u001b[39mif\u001b[39;00m \u001b[39mnot\u001b[39;00m \u001b[39mself\u001b[39m\u001b[39m.\u001b[39m_lazy:\n\u001b[0;32m---> <a href='file:///Users/khuyen/Data-science/venv/lib/python3.9/site-packages/pandera/error_handlers.py?line=31'>32</a>\u001b[0m     \u001b[39mraise\u001b[39;00m schema_error \u001b[39mfrom\u001b[39;00m \u001b[39moriginal_exc\u001b[39;00m\n\u001b[1;32m     <a href='file:///Users/khuyen/Data-science/venv/lib/python3.9/site-packages/pandera/error_handlers.py?line=33'>34</a>\u001b[0m \u001b[39m# delete data of validated object from SchemaError object to prevent\u001b[39;00m\n\u001b[1;32m     <a href='file:///Users/khuyen/Data-science/venv/lib/python3.9/site-packages/pandera/error_handlers.py?line=34'>35</a>\u001b[0m \u001b[39m# storing copies of the validated DataFrame/Series for every\u001b[39;00m\n\u001b[1;32m     <a href='file:///Users/khuyen/Data-science/venv/lib/python3.9/site-packages/pandera/error_handlers.py?line=35'>36</a>\u001b[0m \u001b[39m# SchemaError collected.\u001b[39;00m\n\u001b[1;32m     <a href='file:///Users/khuyen/Data-science/venv/lib/python3.9/site-packages/pandera/error_handlers.py?line=36'>37</a>\u001b[0m \u001b[39mdel\u001b[39;00m schema_error\u001b[39m.\u001b[39mdata\n",
      "File \u001b[0;32m~/Data-science/venv/lib/python3.9/site-packages/pandera/schemas.py:704\u001b[0m, in \u001b[0;36mDataFrameSchema._validate\u001b[0;34m(self, check_obj, head, tail, sample, random_state, lazy, inplace)\u001b[0m\n\u001b[1;32m    <a href='file:///Users/khuyen/Data-science/venv/lib/python3.9/site-packages/pandera/schemas.py?line=701'>702</a>\u001b[0m \u001b[39mfor\u001b[39;00m schema_component \u001b[39min\u001b[39;00m schema_components:\n\u001b[1;32m    <a href='file:///Users/khuyen/Data-science/venv/lib/python3.9/site-packages/pandera/schemas.py?line=702'>703</a>\u001b[0m     \u001b[39mtry\u001b[39;00m:\n\u001b[0;32m--> <a href='file:///Users/khuyen/Data-science/venv/lib/python3.9/site-packages/pandera/schemas.py?line=703'>704</a>\u001b[0m         result \u001b[39m=\u001b[39m schema_component(\n\u001b[1;32m    <a href='file:///Users/khuyen/Data-science/venv/lib/python3.9/site-packages/pandera/schemas.py?line=704'>705</a>\u001b[0m             df_to_validate,\n\u001b[1;32m    <a href='file:///Users/khuyen/Data-science/venv/lib/python3.9/site-packages/pandera/schemas.py?line=705'>706</a>\u001b[0m             lazy\u001b[39m=\u001b[39;49mlazy,\n\u001b[1;32m    <a href='file:///Users/khuyen/Data-science/venv/lib/python3.9/site-packages/pandera/schemas.py?line=706'>707</a>\u001b[0m             \u001b[39m# don't make a copy of the data\u001b[39;49;00m\n\u001b[1;32m    <a href='file:///Users/khuyen/Data-science/venv/lib/python3.9/site-packages/pandera/schemas.py?line=707'>708</a>\u001b[0m             inplace\u001b[39m=\u001b[39;49m\u001b[39mTrue\u001b[39;49;00m,\n\u001b[1;32m    <a href='file:///Users/khuyen/Data-science/venv/lib/python3.9/site-packages/pandera/schemas.py?line=708'>709</a>\u001b[0m         )\n\u001b[1;32m    <a href='file:///Users/khuyen/Data-science/venv/lib/python3.9/site-packages/pandera/schemas.py?line=709'>710</a>\u001b[0m         check_results\u001b[39m.\u001b[39mappend(check_utils\u001b[39m.\u001b[39mis_table(result))\n\u001b[1;32m    <a href='file:///Users/khuyen/Data-science/venv/lib/python3.9/site-packages/pandera/schemas.py?line=710'>711</a>\u001b[0m     \u001b[39mexcept\u001b[39;00m errors\u001b[39m.\u001b[39mSchemaError \u001b[39mas\u001b[39;00m err:\n",
      "File \u001b[0;32m~/Data-science/venv/lib/python3.9/site-packages/pandera/schemas.py:2046\u001b[0m, in \u001b[0;36mSeriesSchemaBase.__call__\u001b[0;34m(self, check_obj, head, tail, sample, random_state, lazy, inplace)\u001b[0m\n\u001b[1;32m   <a href='file:///Users/khuyen/Data-science/venv/lib/python3.9/site-packages/pandera/schemas.py?line=2034'>2035</a>\u001b[0m \u001b[39mdef\u001b[39;00m \u001b[39m__call__\u001b[39m(\n\u001b[1;32m   <a href='file:///Users/khuyen/Data-science/venv/lib/python3.9/site-packages/pandera/schemas.py?line=2035'>2036</a>\u001b[0m     \u001b[39mself\u001b[39m,\n\u001b[1;32m   <a href='file:///Users/khuyen/Data-science/venv/lib/python3.9/site-packages/pandera/schemas.py?line=2036'>2037</a>\u001b[0m     check_obj: Union[pd\u001b[39m.\u001b[39mDataFrame, pd\u001b[39m.\u001b[39mSeries],\n\u001b[0;32m   (...)\u001b[0m\n\u001b[1;32m   <a href='file:///Users/khuyen/Data-science/venv/lib/python3.9/site-packages/pandera/schemas.py?line=2042'>2043</a>\u001b[0m     inplace: \u001b[39mbool\u001b[39m \u001b[39m=\u001b[39m \u001b[39mFalse\u001b[39;00m,\n\u001b[1;32m   <a href='file:///Users/khuyen/Data-science/venv/lib/python3.9/site-packages/pandera/schemas.py?line=2043'>2044</a>\u001b[0m ) \u001b[39m-\u001b[39m\u001b[39m>\u001b[39m Union[pd\u001b[39m.\u001b[39mDataFrame, pd\u001b[39m.\u001b[39mSeries]:\n\u001b[1;32m   <a href='file:///Users/khuyen/Data-science/venv/lib/python3.9/site-packages/pandera/schemas.py?line=2044'>2045</a>\u001b[0m     \u001b[39m\"\"\"Alias for ``validate`` method.\"\"\"\u001b[39;00m\n\u001b[0;32m-> <a href='file:///Users/khuyen/Data-science/venv/lib/python3.9/site-packages/pandera/schemas.py?line=2045'>2046</a>\u001b[0m     \u001b[39mreturn\u001b[39;00m \u001b[39mself\u001b[39;49m\u001b[39m.\u001b[39;49mvalidate(\n\u001b[1;32m   <a href='file:///Users/khuyen/Data-science/venv/lib/python3.9/site-packages/pandera/schemas.py?line=2046'>2047</a>\u001b[0m         check_obj, head, tail, sample, random_state, lazy, inplace\n\u001b[1;32m   <a href='file:///Users/khuyen/Data-science/venv/lib/python3.9/site-packages/pandera/schemas.py?line=2047'>2048</a>\u001b[0m     )\n",
      "File \u001b[0;32m~/Data-science/venv/lib/python3.9/site-packages/pandera/schema_components.py:214\u001b[0m, in \u001b[0;36mColumn.validate\u001b[0;34m(self, check_obj, head, tail, sample, random_state, lazy, inplace)\u001b[0m\n\u001b[1;32m    <a href='file:///Users/khuyen/Data-science/venv/lib/python3.9/site-packages/pandera/schema_components.py?line=209'>210</a>\u001b[0m             validate_column(\n\u001b[1;32m    <a href='file:///Users/khuyen/Data-science/venv/lib/python3.9/site-packages/pandera/schema_components.py?line=210'>211</a>\u001b[0m                 check_obj[column_name]\u001b[39m.\u001b[39miloc[:, [i]], column_name\n\u001b[1;32m    <a href='file:///Users/khuyen/Data-science/venv/lib/python3.9/site-packages/pandera/schema_components.py?line=211'>212</a>\u001b[0m             )\n\u001b[1;32m    <a href='file:///Users/khuyen/Data-science/venv/lib/python3.9/site-packages/pandera/schema_components.py?line=212'>213</a>\u001b[0m     \u001b[39melse\u001b[39;00m:\n\u001b[0;32m--> <a href='file:///Users/khuyen/Data-science/venv/lib/python3.9/site-packages/pandera/schema_components.py?line=213'>214</a>\u001b[0m         validate_column(check_obj, column_name)\n\u001b[1;32m    <a href='file:///Users/khuyen/Data-science/venv/lib/python3.9/site-packages/pandera/schema_components.py?line=215'>216</a>\u001b[0m \u001b[39mreturn\u001b[39;00m check_obj\n",
      "File \u001b[0;32m~/Data-science/venv/lib/python3.9/site-packages/pandera/schema_components.py:187\u001b[0m, in \u001b[0;36mColumn.validate.<locals>.validate_column\u001b[0;34m(check_obj, column_name)\u001b[0m\n\u001b[1;32m    <a href='file:///Users/khuyen/Data-science/venv/lib/python3.9/site-packages/pandera/schema_components.py?line=185'>186</a>\u001b[0m \u001b[39mdef\u001b[39;00m \u001b[39mvalidate_column\u001b[39m(check_obj, column_name):\n\u001b[0;32m--> <a href='file:///Users/khuyen/Data-science/venv/lib/python3.9/site-packages/pandera/schema_components.py?line=186'>187</a>\u001b[0m     \u001b[39msuper\u001b[39;49m(Column, copy(\u001b[39mself\u001b[39;49m)\u001b[39m.\u001b[39;49mset_name(column_name))\u001b[39m.\u001b[39;49mvalidate(\n\u001b[1;32m    <a href='file:///Users/khuyen/Data-science/venv/lib/python3.9/site-packages/pandera/schema_components.py?line=187'>188</a>\u001b[0m         check_obj,\n\u001b[1;32m    <a href='file:///Users/khuyen/Data-science/venv/lib/python3.9/site-packages/pandera/schema_components.py?line=188'>189</a>\u001b[0m         head,\n\u001b[1;32m    <a href='file:///Users/khuyen/Data-science/venv/lib/python3.9/site-packages/pandera/schema_components.py?line=189'>190</a>\u001b[0m         tail,\n\u001b[1;32m    <a href='file:///Users/khuyen/Data-science/venv/lib/python3.9/site-packages/pandera/schema_components.py?line=190'>191</a>\u001b[0m         sample,\n\u001b[1;32m    <a href='file:///Users/khuyen/Data-science/venv/lib/python3.9/site-packages/pandera/schema_components.py?line=191'>192</a>\u001b[0m         random_state,\n\u001b[1;32m    <a href='file:///Users/khuyen/Data-science/venv/lib/python3.9/site-packages/pandera/schema_components.py?line=192'>193</a>\u001b[0m         lazy,\n\u001b[1;32m    <a href='file:///Users/khuyen/Data-science/venv/lib/python3.9/site-packages/pandera/schema_components.py?line=193'>194</a>\u001b[0m         inplace\u001b[39m=\u001b[39;49minplace,\n\u001b[1;32m    <a href='file:///Users/khuyen/Data-science/venv/lib/python3.9/site-packages/pandera/schema_components.py?line=194'>195</a>\u001b[0m     )\n",
      "File \u001b[0;32m~/Data-science/venv/lib/python3.9/site-packages/pandera/schemas.py:1961\u001b[0m, in \u001b[0;36mSeriesSchemaBase.validate\u001b[0;34m(self, check_obj, head, tail, sample, random_state, lazy, inplace)\u001b[0m\n\u001b[1;32m   <a href='file:///Users/khuyen/Data-science/venv/lib/python3.9/site-packages/pandera/schemas.py?line=1955'>1956</a>\u001b[0m     \u001b[39mif\u001b[39;00m duplicates\u001b[39m.\u001b[39many():\n\u001b[1;32m   <a href='file:///Users/khuyen/Data-science/venv/lib/python3.9/site-packages/pandera/schemas.py?line=1956'>1957</a>\u001b[0m         msg \u001b[39m=\u001b[39m (\n\u001b[1;32m   <a href='file:///Users/khuyen/Data-science/venv/lib/python3.9/site-packages/pandera/schemas.py?line=1957'>1958</a>\u001b[0m             \u001b[39mf\u001b[39m\u001b[39m\"\u001b[39m\u001b[39mseries \u001b[39m\u001b[39m'\u001b[39m\u001b[39m{\u001b[39;00mseries\u001b[39m.\u001b[39mname\u001b[39m}\u001b[39;00m\u001b[39m'\u001b[39m\u001b[39m contains duplicate values:\u001b[39m\u001b[39m\\n\u001b[39;00m\u001b[39m\"\u001b[39m\n\u001b[1;32m   <a href='file:///Users/khuyen/Data-science/venv/lib/python3.9/site-packages/pandera/schemas.py?line=1958'>1959</a>\u001b[0m             \u001b[39mf\u001b[39m\u001b[39m\"\u001b[39m\u001b[39m{\u001b[39;00mfailed\u001b[39m}\u001b[39;00m\u001b[39m\"\u001b[39m\n\u001b[1;32m   <a href='file:///Users/khuyen/Data-science/venv/lib/python3.9/site-packages/pandera/schemas.py?line=1959'>1960</a>\u001b[0m         )\n\u001b[0;32m-> <a href='file:///Users/khuyen/Data-science/venv/lib/python3.9/site-packages/pandera/schemas.py?line=1960'>1961</a>\u001b[0m         error_handler\u001b[39m.\u001b[39;49mcollect_error(\n\u001b[1;32m   <a href='file:///Users/khuyen/Data-science/venv/lib/python3.9/site-packages/pandera/schemas.py?line=1961'>1962</a>\u001b[0m             \u001b[39m\"\u001b[39;49m\u001b[39mseries_contains_duplicates\u001b[39;49m\u001b[39m\"\u001b[39;49m,\n\u001b[1;32m   <a href='file:///Users/khuyen/Data-science/venv/lib/python3.9/site-packages/pandera/schemas.py?line=1962'>1963</a>\u001b[0m             errors\u001b[39m.\u001b[39;49mSchemaError(\n\u001b[1;32m   <a href='file:///Users/khuyen/Data-science/venv/lib/python3.9/site-packages/pandera/schemas.py?line=1963'>1964</a>\u001b[0m                 \u001b[39mself\u001b[39;49m,\n\u001b[1;32m   <a href='file:///Users/khuyen/Data-science/venv/lib/python3.9/site-packages/pandera/schemas.py?line=1964'>1965</a>\u001b[0m                 check_obj,\n\u001b[1;32m   <a href='file:///Users/khuyen/Data-science/venv/lib/python3.9/site-packages/pandera/schemas.py?line=1965'>1966</a>\u001b[0m                 msg,\n\u001b[1;32m   <a href='file:///Users/khuyen/Data-science/venv/lib/python3.9/site-packages/pandera/schemas.py?line=1966'>1967</a>\u001b[0m                 failure_cases\u001b[39m=\u001b[39;49mreshape_failure_cases(failed),\n\u001b[1;32m   <a href='file:///Users/khuyen/Data-science/venv/lib/python3.9/site-packages/pandera/schemas.py?line=1967'>1968</a>\u001b[0m                 check\u001b[39m=\u001b[39;49m\u001b[39m\"\u001b[39;49m\u001b[39mfield_uniqueness\u001b[39;49m\u001b[39m\"\u001b[39;49m,\n\u001b[1;32m   <a href='file:///Users/khuyen/Data-science/venv/lib/python3.9/site-packages/pandera/schemas.py?line=1968'>1969</a>\u001b[0m             ),\n\u001b[1;32m   <a href='file:///Users/khuyen/Data-science/venv/lib/python3.9/site-packages/pandera/schemas.py?line=1969'>1970</a>\u001b[0m         )\n\u001b[1;32m   <a href='file:///Users/khuyen/Data-science/venv/lib/python3.9/site-packages/pandera/schemas.py?line=1971'>1972</a>\u001b[0m \u001b[39mif\u001b[39;00m \u001b[39mself\u001b[39m\u001b[39m.\u001b[39m_dtype \u001b[39mis\u001b[39;00m \u001b[39mnot\u001b[39;00m \u001b[39mNone\u001b[39;00m \u001b[39mand\u001b[39;00m (\n\u001b[1;32m   <a href='file:///Users/khuyen/Data-science/venv/lib/python3.9/site-packages/pandera/schemas.py?line=1972'>1973</a>\u001b[0m     \u001b[39mnot\u001b[39;00m \u001b[39mself\u001b[39m\u001b[39m.\u001b[39m_dtype\u001b[39m.\u001b[39mcheck(pandas_engine\u001b[39m.\u001b[39mEngine\u001b[39m.\u001b[39mdtype(series\u001b[39m.\u001b[39mdtype))\n\u001b[1;32m   <a href='file:///Users/khuyen/Data-science/venv/lib/python3.9/site-packages/pandera/schemas.py?line=1973'>1974</a>\u001b[0m ):\n\u001b[1;32m   <a href='file:///Users/khuyen/Data-science/venv/lib/python3.9/site-packages/pandera/schemas.py?line=1974'>1975</a>\u001b[0m     msg \u001b[39m=\u001b[39m (\n\u001b[1;32m   <a href='file:///Users/khuyen/Data-science/venv/lib/python3.9/site-packages/pandera/schemas.py?line=1975'>1976</a>\u001b[0m         \u001b[39mf\u001b[39m\u001b[39m\"\u001b[39m\u001b[39mexpected series \u001b[39m\u001b[39m'\u001b[39m\u001b[39m{\u001b[39;00mseries\u001b[39m.\u001b[39mname\u001b[39m}\u001b[39;00m\u001b[39m'\u001b[39m\u001b[39m to have type \u001b[39m\u001b[39m{\u001b[39;00m\u001b[39mself\u001b[39m\u001b[39m.\u001b[39m_dtype\u001b[39m}\u001b[39;00m\u001b[39m, \u001b[39m\u001b[39m\"\u001b[39m\n\u001b[1;32m   <a href='file:///Users/khuyen/Data-science/venv/lib/python3.9/site-packages/pandera/schemas.py?line=1976'>1977</a>\u001b[0m         \u001b[39m+\u001b[39m \u001b[39mf\u001b[39m\u001b[39m\"\u001b[39m\u001b[39mgot \u001b[39m\u001b[39m{\u001b[39;00mseries\u001b[39m.\u001b[39mdtype\u001b[39m}\u001b[39;00m\u001b[39m\"\u001b[39m\n\u001b[1;32m   <a href='file:///Users/khuyen/Data-science/venv/lib/python3.9/site-packages/pandera/schemas.py?line=1977'>1978</a>\u001b[0m     )\n",
      "File \u001b[0;32m~/Data-science/venv/lib/python3.9/site-packages/pandera/error_handlers.py:32\u001b[0m, in \u001b[0;36mSchemaErrorHandler.collect_error\u001b[0;34m(self, reason_code, schema_error, original_exc)\u001b[0m\n\u001b[1;32m     <a href='file:///Users/khuyen/Data-science/venv/lib/python3.9/site-packages/pandera/error_handlers.py?line=25'>26</a>\u001b[0m \u001b[39m\"\"\"Collect schema error, raising exception if lazy is False.\u001b[39;00m\n\u001b[1;32m     <a href='file:///Users/khuyen/Data-science/venv/lib/python3.9/site-packages/pandera/error_handlers.py?line=26'>27</a>\u001b[0m \n\u001b[1;32m     <a href='file:///Users/khuyen/Data-science/venv/lib/python3.9/site-packages/pandera/error_handlers.py?line=27'>28</a>\u001b[0m \u001b[39m:param reason_code: string representing reason for error\u001b[39;00m\n\u001b[1;32m     <a href='file:///Users/khuyen/Data-science/venv/lib/python3.9/site-packages/pandera/error_handlers.py?line=28'>29</a>\u001b[0m \u001b[39m:param schema_error: ``SchemaError`` object.\u001b[39;00m\n\u001b[1;32m     <a href='file:///Users/khuyen/Data-science/venv/lib/python3.9/site-packages/pandera/error_handlers.py?line=29'>30</a>\u001b[0m \u001b[39m\"\"\"\u001b[39;00m\n\u001b[1;32m     <a href='file:///Users/khuyen/Data-science/venv/lib/python3.9/site-packages/pandera/error_handlers.py?line=30'>31</a>\u001b[0m \u001b[39mif\u001b[39;00m \u001b[39mnot\u001b[39;00m \u001b[39mself\u001b[39m\u001b[39m.\u001b[39m_lazy:\n\u001b[0;32m---> <a href='file:///Users/khuyen/Data-science/venv/lib/python3.9/site-packages/pandera/error_handlers.py?line=31'>32</a>\u001b[0m     \u001b[39mraise\u001b[39;00m schema_error \u001b[39mfrom\u001b[39;00m \u001b[39moriginal_exc\u001b[39;00m\n\u001b[1;32m     <a href='file:///Users/khuyen/Data-science/venv/lib/python3.9/site-packages/pandera/error_handlers.py?line=33'>34</a>\u001b[0m \u001b[39m# delete data of validated object from SchemaError object to prevent\u001b[39;00m\n\u001b[1;32m     <a href='file:///Users/khuyen/Data-science/venv/lib/python3.9/site-packages/pandera/error_handlers.py?line=34'>35</a>\u001b[0m \u001b[39m# storing copies of the validated DataFrame/Series for every\u001b[39;00m\n\u001b[1;32m     <a href='file:///Users/khuyen/Data-science/venv/lib/python3.9/site-packages/pandera/error_handlers.py?line=35'>36</a>\u001b[0m \u001b[39m# SchemaError collected.\u001b[39;00m\n\u001b[1;32m     <a href='file:///Users/khuyen/Data-science/venv/lib/python3.9/site-packages/pandera/error_handlers.py?line=36'>37</a>\u001b[0m \u001b[39mdel\u001b[39;00m schema_error\u001b[39m.\u001b[39mdata\n",
      "\u001b[0;31mSchemaError\u001b[0m: series 'store' contains duplicate values:\n2    Walmart\nName: store, dtype: object"
     ]
    }
   ],
   "source": [
    "schema = pa.DataFrameSchema(\n",
    "    {\n",
    "        \"name\": Column(str, Check.isin(available_fruits)),\n",
    "        \"store\": Column(\n",
    "            str,\n",
    "            Check.isin(nearby_stores),\n",
    "            nullable=True,\n",
    "            unique=True\n",
    "        ),\n",
    "        \"price\": Column(int, Check.less_than(5)),\n",
    "    }\n",
    ")\n",
    "schema.validate(fruits)\n"
   ]
  },
  {
   "cell_type": "markdown",
   "id": "045edb47",
   "metadata": {},
   "source": [
    "## Convert Data Types\n",
    "* coerce=Ture, 強制轉換資料型別"
   ]
  },
  {
   "cell_type": "code",
   "execution_count": 29,
   "id": "0e7e9deb",
   "metadata": {
    "ExecuteTime": {
     "end_time": "2022-03-25T19:38:21.614473Z",
     "start_time": "2022-03-25T19:38:21.589580Z"
    }
   },
   "outputs": [
    {
     "data": {
      "text/plain": [
       "name     object\n",
       "store    object\n",
       "price    object\n",
       "dtype: object"
      ]
     },
     "execution_count": 29,
     "metadata": {},
     "output_type": "execute_result"
    }
   ],
   "source": [
    "fruits = pd.DataFrame(\n",
    "    {\n",
    "        \"name\": [\"apple\", \"banana\", \"apple\", \"orange\"],\n",
    "        \"store\": [\"Aldi\", \"Walmart\", \"Walmart\", \"Aldi\"],\n",
    "        \"price\": [2, 1, 3, 4],\n",
    "    }\n",
    ")\n",
    "\n",
    "schema = pa.DataFrameSchema({\"price\": Column(str, coerce=True)})\n",
    "validated = schema.validate(fruits)\n",
    "validated.dtypes"
   ]
  },
  {
   "cell_type": "markdown",
   "id": "5c0a8392",
   "metadata": {},
   "source": [
    "## Patern Matching\n",
    "* regex = Ture 與 多資料欄位"
   ]
  },
  {
   "cell_type": "code",
   "execution_count": null,
   "id": "5a6a46c2",
   "metadata": {},
   "outputs": [],
   "source": [
    "favorite_stores = [\"Aldi\", \"Walmart\", \"Whole Foods\", \"Schnucks\"]\n",
    "\n",
    "fruits = pd.DataFrame(\n",
    "    {\n",
    "        \"name\": [\"apple\", \"banana\", \"apple\", \"orange\"],\n",
    "        \"store_nearby\": [\"Aldi\", \"Walmart\", \"Walmart\", \"Aldi\"],\n",
    "        \"store_far\": [\"Whole Foods\", \"Schnucks\", \"Whole Foods\", \"Schnucks\"],\n",
    "    }\n",
    ")\n",
    "\n",
    "schema = pa.DataFrameSchema(\n",
    "    {\n",
    "        \"name\": Column(str, Check.isin(available_fruits)),\n",
    "        \"store_+\": Column(\n",
    "            str,\n",
    "            Check.isin(favorite_stores),\n",
    "            regex=True,\n",
    "        ),\n",
    "    }\n",
    ")\n",
    "schema.validate(fruits)\n"
   ]
  },
  {
   "cell_type": "code",
   "execution_count": null,
   "id": "272013e8",
   "metadata": {},
   "outputs": [],
   "source": []
  },
  {
   "cell_type": "code",
   "execution_count": 32,
   "id": "1b2afa5d",
   "metadata": {
    "ExecuteTime": {
     "end_time": "2022-03-25T15:53:05.233627Z",
     "start_time": "2022-03-25T15:53:05.152397Z"
    }
   },
   "outputs": [
    {
     "data": {
      "text/html": [
       "<div>\n",
       "<style scoped>\n",
       "    .dataframe tbody tr th:only-of-type {\n",
       "        vertical-align: middle;\n",
       "    }\n",
       "\n",
       "    .dataframe tbody tr th {\n",
       "        vertical-align: top;\n",
       "    }\n",
       "\n",
       "    .dataframe thead th {\n",
       "        text-align: right;\n",
       "    }\n",
       "</style>\n",
       "<table border=\"1\" class=\"dataframe\">\n",
       "  <thead>\n",
       "    <tr style=\"text-align: right;\">\n",
       "      <th></th>\n",
       "      <th>name</th>\n",
       "      <th>store_nearby</th>\n",
       "      <th>store_far</th>\n",
       "    </tr>\n",
       "  </thead>\n",
       "  <tbody>\n",
       "    <tr>\n",
       "      <th>0</th>\n",
       "      <td>apple</td>\n",
       "      <td>Aldi</td>\n",
       "      <td>WF</td>\n",
       "    </tr>\n",
       "    <tr>\n",
       "      <th>1</th>\n",
       "      <td>banana</td>\n",
       "      <td>Walmart</td>\n",
       "      <td>Schnucks</td>\n",
       "    </tr>\n",
       "    <tr>\n",
       "      <th>2</th>\n",
       "      <td>apple</td>\n",
       "      <td>Walmart</td>\n",
       "      <td>WF</td>\n",
       "    </tr>\n",
       "    <tr>\n",
       "      <th>3</th>\n",
       "      <td>orange</td>\n",
       "      <td>Aldi</td>\n",
       "      <td>Schnucks</td>\n",
       "    </tr>\n",
       "  </tbody>\n",
       "</table>\n",
       "</div>"
      ],
      "text/plain": [
       "     name store_nearby store_far\n",
       "0   apple         Aldi        WF\n",
       "1  banana      Walmart  Schnucks\n",
       "2   apple      Walmart        WF\n",
       "3  orange         Aldi  Schnucks"
      ]
     },
     "execution_count": 32,
     "metadata": {},
     "output_type": "execute_result"
    }
   ],
   "source": [
    "favorite_stores = [\"Aldi\", \"Walmart\", \"WF\", \"Schnucks\"]\n",
    "\n",
    "fruits = pd.DataFrame(\n",
    "    {\n",
    "        \"name\": [\"apple\", \"banana\", \"apple\", \"orange\"],\n",
    "        \"store_nearby\": [\"Aldi\", \"Walmart\", \"Walmart\", \"Aldi\"],\n",
    "        \"store_far\": [\"WF\", \"Schnucks\", \"WF\", \"Schnucks\"],\n",
    "    }\n",
    ")\n",
    "\n",
    "schema = pa.DataFrameSchema(\n",
    "    {\n",
    "        \"name\": Column(str, Check.isin(available_fruits)),\n",
    "        \"store_*\": Column(\n",
    "            str,\n",
    "            Check.isin(favorite_stores),\n",
    "            regex=True\n",
    "        ),\n",
    "    }\n",
    ")\n",
    "schema.validate(fruits)\n"
   ]
  },
  {
   "cell_type": "markdown",
   "id": "6b396eb3",
   "metadata": {},
   "source": [
    "# Export and Load From a YAML file"
   ]
  },
  {
   "cell_type": "markdown",
   "id": "a946ae50",
   "metadata": {},
   "source": [
    "## Export"
   ]
  },
  {
   "cell_type": "code",
   "execution_count": 49,
   "id": "86c4cc16",
   "metadata": {
    "ExecuteTime": {
     "end_time": "2022-03-25T15:39:00.417968Z",
     "start_time": "2022-03-25T15:39:00.394006Z"
    }
   },
   "outputs": [
    {
     "name": "stdout",
     "output_type": "stream",
     "text": [
      "schema_type: dataframe\n",
      "version: 0.7.0\n",
      "columns:\n",
      "  name:\n",
      "    dtype: str\n",
      "    nullable: false\n",
      "    checks:\n",
      "      isin:\n",
      "      - apple\n",
      "      - banana\n",
      "      - orange\n",
      "    allow_duplicates: true\n",
      "    coerce: false\n",
      "    required: true\n",
      "    regex: false\n",
      "  store:\n",
      "    dtype: str\n",
      "    nullable: true\n",
      "    checks:\n",
      "      isin:\n",
      "      - Aldi\n",
      "      - Walmart\n",
      "    allow_duplicates: false\n",
      "    coerce: false\n",
      "    required: true\n",
      "    regex: false\n",
      "  price:\n",
      "    dtype: int64\n",
      "    nullable: false\n",
      "    checks:\n",
      "      less_than: 5\n",
      "    allow_duplicates: true\n",
      "    coerce: false\n",
      "    required: true\n",
      "    regex: false\n",
      "checks: null\n",
      "index: null\n",
      "coerce: false\n",
      "strict: false\n",
      "\n"
     ]
    },
    {
     "data": {
      "application/javascript": [
       "\n",
       "            setTimeout(function() {\n",
       "                var nbb_cell_id = 49;\n",
       "                var nbb_unformatted_code = \"yaml_schema = schema.to_yaml()\\nprint(yaml_schema)\";\n",
       "                var nbb_formatted_code = \"yaml_schema = schema.to_yaml()\\nprint(yaml_schema)\";\n",
       "                var nbb_cells = Jupyter.notebook.get_cells();\n",
       "                for (var i = 0; i < nbb_cells.length; ++i) {\n",
       "                    if (nbb_cells[i].input_prompt_number == nbb_cell_id) {\n",
       "                        if (nbb_cells[i].get_text() == nbb_unformatted_code) {\n",
       "                             nbb_cells[i].set_text(nbb_formatted_code);\n",
       "                        }\n",
       "                        break;\n",
       "                    }\n",
       "                }\n",
       "            }, 500);\n",
       "            "
      ],
      "text/plain": [
       "<IPython.core.display.Javascript object>"
      ]
     },
     "metadata": {},
     "output_type": "display_data"
    }
   ],
   "source": [
    "yaml_schema = schema.to_yaml()\n",
    "print(yaml_schema)"
   ]
  },
  {
   "cell_type": "code",
   "execution_count": 53,
   "id": "c38b376a",
   "metadata": {
    "ExecuteTime": {
     "end_time": "2022-03-25T15:40:58.368617Z",
     "start_time": "2022-03-25T15:40:58.347761Z"
    }
   },
   "outputs": [
    {
     "data": {
      "text/plain": [
       "628"
      ]
     },
     "execution_count": 53,
     "metadata": {},
     "output_type": "execute_result"
    },
    {
     "data": {
      "application/javascript": [
       "\n",
       "            setTimeout(function() {\n",
       "                var nbb_cell_id = 53;\n",
       "                var nbb_unformatted_code = \"from pathlib import Path\\n\\nf = Path(\\\"schema.yml\\\")\\nf.touch()\\nf.write_text(yaml_schema)\";\n",
       "                var nbb_formatted_code = \"from pathlib import Path\\n\\nf = Path(\\\"schema.yml\\\")\\nf.touch()\\nf.write_text(yaml_schema)\";\n",
       "                var nbb_cells = Jupyter.notebook.get_cells();\n",
       "                for (var i = 0; i < nbb_cells.length; ++i) {\n",
       "                    if (nbb_cells[i].input_prompt_number == nbb_cell_id) {\n",
       "                        if (nbb_cells[i].get_text() == nbb_unformatted_code) {\n",
       "                             nbb_cells[i].set_text(nbb_formatted_code);\n",
       "                        }\n",
       "                        break;\n",
       "                    }\n",
       "                }\n",
       "            }, 500);\n",
       "            "
      ],
      "text/plain": [
       "<IPython.core.display.Javascript object>"
      ]
     },
     "metadata": {},
     "output_type": "display_data"
    }
   ],
   "source": [
    "from pathlib import Path\n",
    "\n",
    "f = Path(\"schema.yml\")\n",
    "f.touch()\n",
    "f.write_text(yaml_schema)"
   ]
  },
  {
   "cell_type": "markdown",
   "id": "fd3db611",
   "metadata": {},
   "source": [
    "## Load"
   ]
  },
  {
   "cell_type": "code",
   "execution_count": 56,
   "id": "bd70b32d",
   "metadata": {
    "ExecuteTime": {
     "end_time": "2022-03-25T15:43:38.089308Z",
     "start_time": "2022-03-25T15:43:38.076024Z"
    }
   },
   "outputs": [
    {
     "data": {
      "application/javascript": [
       "\n",
       "            setTimeout(function() {\n",
       "                var nbb_cell_id = 56;\n",
       "                var nbb_unformatted_code = \"with f.open() as file:\\n    yaml_schema = file.read()\";\n",
       "                var nbb_formatted_code = \"with f.open() as file:\\n    yaml_schema = file.read()\";\n",
       "                var nbb_cells = Jupyter.notebook.get_cells();\n",
       "                for (var i = 0; i < nbb_cells.length; ++i) {\n",
       "                    if (nbb_cells[i].input_prompt_number == nbb_cell_id) {\n",
       "                        if (nbb_cells[i].get_text() == nbb_unformatted_code) {\n",
       "                             nbb_cells[i].set_text(nbb_formatted_code);\n",
       "                        }\n",
       "                        break;\n",
       "                    }\n",
       "                }\n",
       "            }, 500);\n",
       "            "
      ],
      "text/plain": [
       "<IPython.core.display.Javascript object>"
      ]
     },
     "metadata": {},
     "output_type": "display_data"
    }
   ],
   "source": [
    "with f.open() as file:\n",
    "    yaml_schema = file.read()"
   ]
  },
  {
   "cell_type": "code",
   "execution_count": 57,
   "id": "6aba8b14",
   "metadata": {
    "ExecuteTime": {
     "end_time": "2022-03-25T15:43:58.571587Z",
     "start_time": "2022-03-25T15:43:58.542720Z"
    }
   },
   "outputs": [
    {
     "data": {
      "text/plain": [
       "<Schema DataFrameSchema(columns={'name': <Schema Column(name=name, type=DataType(str))>, 'store': <Schema Column(name=store, type=DataType(str))>, 'price': <Schema Column(name=price, type=DataType(int64))>}, checks=[], index=None, coerce=False, dtype=None,strict=False,name=None,ordered=False)>"
      ]
     },
     "execution_count": 57,
     "metadata": {},
     "output_type": "execute_result"
    },
    {
     "data": {
      "application/javascript": [
       "\n",
       "            setTimeout(function() {\n",
       "                var nbb_cell_id = 57;\n",
       "                var nbb_unformatted_code = \"schema = pa.io.from_yaml(yaml_schema)\\nschema\";\n",
       "                var nbb_formatted_code = \"schema = pa.io.from_yaml(yaml_schema)\\nschema\";\n",
       "                var nbb_cells = Jupyter.notebook.get_cells();\n",
       "                for (var i = 0; i < nbb_cells.length; ++i) {\n",
       "                    if (nbb_cells[i].input_prompt_number == nbb_cell_id) {\n",
       "                        if (nbb_cells[i].get_text() == nbb_unformatted_code) {\n",
       "                             nbb_cells[i].set_text(nbb_formatted_code);\n",
       "                        }\n",
       "                        break;\n",
       "                    }\n",
       "                }\n",
       "            }, 500);\n",
       "            "
      ],
      "text/plain": [
       "<IPython.core.display.Javascript object>"
      ]
     },
     "metadata": {},
     "output_type": "display_data"
    }
   ],
   "source": [
    "schema = pa.io.from_yaml(yaml_schema)\n",
    "schema"
   ]
  }
 ],
 "metadata": {
  "hide_input": false,
  "interpreter": {
   "hash": "478cc5ef0f338997730d9103983e193fe6c3c8e58abb3c8c0481de8a2f51bddc"
  },
  "kernelspec": {
   "display_name": "Python 3 (ipykernel)",
   "language": "python",
   "name": "python3"
  },
  "language_info": {
   "codemirror_mode": {
    "name": "ipython",
    "version": 3
   },
   "file_extension": ".py",
   "mimetype": "text/x-python",
   "name": "python",
   "nbconvert_exporter": "python",
   "pygments_lexer": "ipython3",
   "version": "3.8.9"
  },
  "toc": {
   "base_numbering": 1,
   "nav_menu": {},
   "number_sections": true,
   "sideBar": true,
   "skip_h1_title": false,
   "title_cell": "Table of Contents",
   "title_sidebar": "Contents",
   "toc_cell": false,
   "toc_position": {},
   "toc_section_display": true,
   "toc_window_display": false
  }
 },
 "nbformat": 4,
 "nbformat_minor": 5
}
